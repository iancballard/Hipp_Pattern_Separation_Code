{
 "cells": [
  {
   "cell_type": "code",
   "execution_count": 1,
   "metadata": {
    "collapsed": true
   },
   "outputs": [],
   "source": [
    "import os\n",
    "import os.path as op\n",
    "import numpy as np\n",
    "import glob\n",
    "import csv\n",
    "import matplotlib\n",
    "import matplotlib.pyplot as plt\n",
    "import pandas as pd\n",
    "from scipy import stats, optimize\n",
    "from pandas import DataFrame, Series\n",
    "import seaborn as sns\n",
    "import random as rd\n",
    "from statsmodels.formula.api import ols\n",
    "from statsmodels.stats.anova import anova_lm\n",
    "import scipy.stats\n",
    "import sklearn\n",
    "import patsy\n",
    "from scipy.optimize import minimize\n",
    "from sklearn import linear_model\n",
    "import multiprocessing\n",
    "import random\n",
    "%matplotlib inline"
   ]
  },
  {
   "cell_type": "code",
   "execution_count": 14,
   "metadata": {
    "collapsed": true
   },
   "outputs": [],
   "source": [
    "#Read in data\n",
    "data_dir = os.path.abspath('../')\n",
    "all_rts = pd.read_csv(data_dir + '/all_rts.csv', index_col =0)\n",
    "exp_order = pd.read_csv(data_dir + '/exp_order.csv', index_col =0)\n",
    "exp_order = exp_order.set_index(['exp','run'])\n",
    "\n",
    "subjects = list(np.loadtxt(data_dir+ '/subjects.txt',str))\n",
    "\n",
    "#some experiment variables\n",
    "order_dict_ser = {'c_plus':6, 'b_plus':2, 'b_minus':3, 'c_minus':5} #coding for trial order vector\n",
    "order_dict_sim = {'c_plus':4, 'b_plus':1, 'b_minus':2, 'c_minus':3}\n",
    "order_dict_exp = {'ser': order_dict_ser, 'sim':order_dict_sim}\n",
    "\n",
    "order_dict_reverse_exp = {}\n",
    "for exp in ['sim','ser']:\n",
    "    order_dict = order_dict_exp[exp]\n",
    "    order_dict_reverse = {val:key for key,val in zip(order_dict.keys(),order_dict.values())}\n",
    "    order_dict_reverse[10] = None\n",
    "    if exp == 'ser':\n",
    "        order_dict_reverse[1] = None\n",
    "        order_dict_reverse[4] = None\n",
    "    order_dict_reverse_exp[exp] = order_dict_reverse.copy()"
   ]
  },
  {
   "cell_type": "code",
   "execution_count": 15,
   "metadata": {
    "collapsed": true
   },
   "outputs": [],
   "source": [
    "### process the RTs a bit (remove trial types 1, 4, and 10 (see below) and mean center)\n",
    "sim_rts = all_rts[all_rts['exp']=='sim']\n",
    "sim_rts = sim_rts[sim_rts['order'] != 10] #ITI\n",
    "\n",
    "rt_dict_exp = {'sim':sim_rts}"
   ]
  },
  {
   "cell_type": "code",
   "execution_count": 16,
   "metadata": {},
   "outputs": [
    {
     "data": {
      "image/png": "[encoded data removed]",
      "text/plain": [
       "<matplotlib.figure.Figure at 0x10ec55a10>"
      ]
     },
     "metadata": {},
     "output_type": "display_data"
    }
   ],
   "source": [
    "a = sim_rts.dropna()\n",
    "a = a['rt'].values\n",
    "a = [rt for rt in a if rt < 100000]\n",
    "sns.distplot(a);"
   ]
  },
  {
   "cell_type": "markdown",
   "metadata": {},
   "source": [
    "# Compare models using Bayesian RFX"
   ]
  },
  {
   "cell_type": "code",
   "execution_count": 53,
   "metadata": {
    "collapsed": true
   },
   "outputs": [],
   "source": [
    "def calc_aicc(ll,n_params,n_obs):\n",
    "    return -2*ll + 2*n_params + (2*n_params * (n_params+1))/(n_obs*1.0 - n_params -1)"
   ]
  },
  {
   "cell_type": "code",
   "execution_count": 3,
   "metadata": {},
   "outputs": [
    {
     "name": "stderr",
     "output_type": "stream",
     "text": [
      "/home/iballard/anaconda/lib/python2.7/site-packages/IPython/nbformat.py:13: ShimWarning: The `IPython.nbformat` package has been deprecated since IPython 4.0. You should import from nbformat instead.\n",
      "  \"You should import from nbformat instead.\", ShimWarning)\n"
     ]
    },
    {
     "name": "stdout",
     "output_type": "stream",
     "text": [
      "Starting MATLAB on ZMQ socket ipc:///tmp/pymatbridge-5379e930-ebfa-4740-83db-d8f33aafada8\n",
      "Send 'exit' command to kill the server\n",
      "...........MATLAB started and connected!\n"
     ]
    }
   ],
   "source": [
    "from pymatbridge import Matlab\n",
    "mlab = Matlab()\n",
    "%load_ext pymatbridge\n"
   ]
  },
  {
   "cell_type": "markdown",
   "metadata": {},
   "source": [
    "### Now define each RL model"
   ]
  },
  {
   "cell_type": "code",
   "execution_count": 65,
   "metadata": {
    "collapsed": true,
    "scrolled": true
   },
   "outputs": [],
   "source": [
    "#write to text file\n",
    "path = op.abspath('../rt_fitting/evidence/')\n",
    "for m in set(df.index):\n",
    "\n",
    "    if m in ['leak_RL']:\n",
    "        n_params = 4\n",
    "    elif m == 'null_RL':\n",
    "        n_params = 1\n",
    "    else:\n",
    "        n_params = 3\n",
    "        \n",
    "    aic = []\n",
    "    bic = []\n",
    "    for sub,ll in zip(df.loc[m,'sub'].values,\n",
    "                      df.loc[m,'ll'].values):\n",
    "        \n",
    "        n_obs =  np.loadtxt(op.abspath('../rt_fitting/n_obs/') + '/' + exp + '_' + sub + '_nobs')\n",
    "\n",
    "        aic.append(calc_aicc(ll,n_params,n_obs))\n",
    "        bic.append(calc_bic(ll,n_params,n_obs))\n",
    "\n",
    "    np.savetxt(op.join(path, m + '_aic'),aic)\n",
    "    np.savetxt(op.join(path, m + '_bic'),bic)\n"
   ]
  },
  {
   "cell_type": "code",
   "execution_count": 4,
   "metadata": {
    "collapsed": true
   },
   "outputs": [],
   "source": [
    "%%matlab -o pxp_a\n",
    "path = '/home/iballard/Dropbox/fd/rt_fitting/evidence/';\n",
    "ic = '_aic';\n",
    "brain = textread([path,'brain_RL',ic]);\n",
    "null = textread([path,'null_RL',ic]);\n",
    "standard = textread([path,'standard_RL',ic]);\n",
    "single = textread([path,'single_item_state',ic]);\n",
    "dumb = textread([path,'dumb_RL',ic]);\n",
    "leak = textread([path,'leak_RL',ic]);\n",
    "lc = [leak, standard, single, null];\n",
    "lc = lc*-1;\n",
    "[alpha,exp_r,xp,pxp_a,bor] = spm_BMS(lc);"
   ]
  },
  {
   "cell_type": "code",
   "execution_count": 5,
   "metadata": {
    "collapsed": true
   },
   "outputs": [],
   "source": [
    "# model = ['std','single','leak','null']\n",
    "\n",
    "# xp_df = pd.DataFrame({'model':model*2,\n",
    "#                       'Protected Exceedance Probability':list(pxp_b[0]) + list(pxp_a[0]),\n",
    "#                      'metric':['bic']*len(model) + ['aic']*len(model) })\n",
    "# ax = sns.barplot(x = 'model', y = 'Protected Exceedance Probability',\n",
    "#             hue = 'metric',data = xp_df,)\n",
    "# plt.title('RFX Bayesian Model Comparison')\n",
    "# plt.ylabel('Protected Exceedance Probability')\n",
    "# plt.xlabel('')\n",
    "# ax.set_ylim([0,1])\n",
    "# # plt.savefig('../figures/model_fit_full.png',dpi=600)"
   ]
  },
  {
   "cell_type": "code",
   "execution_count": 23,
   "metadata": {},
   "outputs": [
    {
     "data": {
      "image/png": "[encoded data removed]",
      "text/plain": [
       "<Figure size 576x432 with 1 Axes>"
      ]
     },
     "metadata": {},
     "output_type": "display_data"
    }
   ],
   "source": [
    "model = ['Value\\nSpread', 'Conjunctive','Feature','No Learning']\n",
    "sns.set_context('paper',font_scale = 2.5)\n",
    "sns.set_style(\"white\")\n",
    "plt.figure(figsize=(8,6))\n",
    "\n",
    "xp_df = pd.DataFrame({'model':model,\n",
    "                      'Protected Exceedance Probability': list(pxp_a[0]),\n",
    "                     'metric':['aic']*len(model)})\n",
    "ax = sns.barplot(x = 'model', y = 'Protected Exceedance Probability',\n",
    "            hue = 'metric',data = xp_df)\n",
    "ax.get_legend().set_visible(False)\n",
    "\n",
    "\n",
    "# plt.title('RFX Bayesian Model Comparison')\n",
    "plt.ylabel('Protected Exceedance\\nProbability')\n",
    "plt.xlabel('')\n",
    "ax.set_ylim([0,1])\n",
    "sns.despine()\n",
    "plt.savefig('/home/iballard/Dropbox/fd/figs/revision/bayes_model_comparison_std.png', \n",
    "            dpi = 600,\n",
    "           bbox_inches = 'tight')"
   ]
  },
  {
   "cell_type": "code",
   "execution_count": 7,
   "metadata": {},
   "outputs": [
    {
     "data": {
      "text/plain": [
       "array([[0.88822841, 0.08855868, 0.01108115, 0.01213176]])"
      ]
     },
     "execution_count": 7,
     "metadata": {},
     "output_type": "execute_result"
    }
   ],
   "source": [
    "pxp_a"
   ]
  }
 ],
 "metadata": {
  "kernelspec": {
   "display_name": "Python 2",
   "language": "python",
   "name": "python2"
  },
  "language_info": {
   "codemirror_mode": {
    "name": "ipython",
    "version": 2
   },
   "file_extension": ".py",
   "mimetype": "text/x-python",
   "name": "python",
   "nbconvert_exporter": "python",
   "pygments_lexer": "ipython2",
   "version": "2.7.13"
  }
 },
 "nbformat": 4,
 "nbformat_minor": 1
}
