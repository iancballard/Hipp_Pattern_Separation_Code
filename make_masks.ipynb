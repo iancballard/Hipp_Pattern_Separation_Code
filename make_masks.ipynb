{
 "cells": [
  {
   "cell_type": "code",
   "execution_count": 2,
   "metadata": {
    "collapsed": true
   },
   "outputs": [],
   "source": [
    "import os\n",
    "import os.path as op\n",
    "import glob\n",
    "import numpy as np\n",
    "import multiprocessing\n",
    "from nipype.interfaces import fsl"
   ]
  },
  {
   "cell_type": "code",
   "execution_count": 3,
   "metadata": {
    "collapsed": true
   },
   "outputs": [],
   "source": [
    "#preliminary housekeeping\n",
    "home_dir = '/data/home/iballard/fd/'\n",
    "subj_file = home_dir + 'subjects.txt'\n",
    "subs = list(np.loadtxt(subj_file,'string'))\n",
    "os.chdir(home_dir)\n",
    "exps = ['sim_4mm']\n",
    "runs = map(str,range(1,4))"
   ]
  },
  {
   "cell_type": "code",
   "execution_count": 7,
   "metadata": {
    "collapsed": true
   },
   "outputs": [],
   "source": [
    "#get cortical areas from Yeo atlas\n",
    "path = home_dir + '/data/fsaverage/label/'\n",
    "\n",
    "#get cortical areas from Michael's parcellation\n",
    "cortical_areas =  glob.glob(path + '*yeo*')\n",
    "cortical_areas = [x.split('/')[-1] for x in cortical_areas]"
   ]
  },
  {
   "cell_type": "code",
   "execution_count": 50,
   "metadata": {
    "collapsed": true
   },
   "outputs": [],
   "source": [
    "def make_mask(in_tuple):\n",
    "    sub,roi = in_tuple\n",
    "    roi_id = roi.split('.')[1]\n",
    "    \n",
    "    cmd = ['make_masks.py',\n",
    "           '-s',\n",
    "           sub,\n",
    "           '-roi',\n",
    "           roi_id,\n",
    "            '-label',\n",
    "           roi_id,\n",
    "           '-sample graymid',\n",
    "           '-exp',exps[0],\n",
    "           '-serial']\n",
    "    cmd = ' '.join(cmd)\n",
    "    os.system(cmd)\n",
    "    print cmd"
   ]
  },
  {
   "cell_type": "code",
   "execution_count": 54,
   "metadata": {
    "collapsed": true
   },
   "outputs": [],
   "source": [
    "in_tuples = []\n",
    "for sub in subs:\n",
    "    for roi in cortical_areas:\n",
    "        in_tuples.append((sub,roi))"
   ]
  },
  {
   "cell_type": "code",
   "execution_count": 55,
   "metadata": {
    "collapsed": true
   },
   "outputs": [],
   "source": [
    "pool = multiprocessing.Pool(32)\n",
    "pool.map(make_mask,in_tuples)\n",
    "pool.terminate()\n",
    "pool.join()"
   ]
  }
 ],
 "metadata": {
  "kernelspec": {
   "display_name": "Python 2",
   "language": "python",
   "name": "python2"
  },
  "language_info": {
   "codemirror_mode": {
    "name": "ipython",
    "version": 2
   },
   "file_extension": ".py",
   "mimetype": "text/x-python",
   "name": "python",
   "nbconvert_exporter": "python",
   "pygments_lexer": "ipython2",
   "version": "2.7.13"
  }
 },
 "nbformat": 4,
 "nbformat_minor": 1
}
