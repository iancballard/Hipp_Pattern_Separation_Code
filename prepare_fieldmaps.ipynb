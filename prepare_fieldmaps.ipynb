{
 "cells": [
  {
   "cell_type": "code",
   "execution_count": 7,
   "metadata": {
    "collapsed": true
   },
   "outputs": [],
   "source": [
    "#os and i/o\n",
    "import os\n",
    "import numpy as np\n",
    "import glob\n",
    "from os.path import abspath\n",
    "import csv\n",
    "\n",
    "#scientific computing\n",
    "import matplotlib\n",
    "import matplotlib.pyplot as plt\n",
    "import pandas as pd\n",
    "from scipy import stats, optimize\n",
    "from pandas import DataFrame, Series\n",
    "import seaborn as sns\n",
    "import random as rd\n",
    "from statsmodels.formula.api import ols\n",
    "from statsmodels.stats.anova import anova_lm\n",
    "import scipy.stats\n",
    "\n",
    "#ipython add-ons\n",
    "from ipyparallel import Client\n",
    "import multiprocessing\n",
    "\n",
    "##nipype\n",
    "import nibabel as nib\n",
    "from nipype.pipeline.engine import Node, MapNode, Workflow\n",
    "from nipype.interfaces.io import DataGrabber, DataFinder, DataSink\n",
    "from nipype.interfaces import fsl\n",
    "from nipype.interfaces.fsl import BET\n",
    "from nipype.interfaces.freesurfer.preprocess import ReconAll\n",
    "from nipype.interfaces.freesurfer.utils import MakeAverageSubject\n",
    "from nipype.interfaces.fsl import ExtractROI\n",
    "from nipype.interfaces.fsl import Merge\n",
    "from nipype.interfaces.fsl import TOPUP\n",
    "from nipype.interfaces.fsl import ApplyTOPUP\n",
    "from nipype.interfaces.fsl import ExtractROI\n",
    "\n",
    "%matplotlib inline"
   ]
  },
  {
   "cell_type": "code",
   "execution_count": 9,
   "metadata": {
    "collapsed": true
   },
   "outputs": [],
   "source": [
    "#preliminary housekeeping\n",
    "home_dir = '/data/home/iballard/fd/'\n",
    "subj_file = home_dir + 'scripts/sub_cb_mappings.txt'\n",
    "acq_params = home_dir + 'scripts/acqparams.txt'\n",
    "os.chdir(home_dir)\n",
    "\n",
    "#get subject list\n",
    "subj_file = home_dir + 'subjects.txt'\n",
    "sub_list = list(np.loadtxt(subj_file,'string'))"
   ]
  },
  {
   "cell_type": "code",
   "execution_count": 32,
   "metadata": {
    "collapsed": true
   },
   "outputs": [],
   "source": [
    "##merge the calibration scans\n",
    "def merge_scans(sub):\n",
    "    home_dir = '/home/iballard/fd/'\n",
    "    cal_dir = home_dir + 'data/' + sub + '/cal/'\n",
    "    out_dir = cal_dir + 'lyman/'\n",
    "                              \n",
    "    if not os.path.exists(out_dir):\n",
    "        os.mkdir(out_dir)\n",
    "    for i in range(1,4+1):\n",
    "\n",
    "        out_f = out_dir + '/merged_' + str(i)\n",
    "                             \n",
    "        cal1 = cal_dir + 'cal1_' + str(i) + '.nii.gz'\n",
    "        cal2 = cal_dir + 'cal2_' + str(i) + '.nii.gz'\n",
    "        \n",
    "        out_cal1 = cal_dir + 'cal1_' + str(i) + '_slice.nii.gz'\n",
    "        out_cal2 = cal_dir + 'cal2_' + str(i) + '_slice.nii.gz'\n",
    "\n",
    "        cmd = ['fslroi',cal1,out_cal1,'1','1']\n",
    "        os.system(' '.join(cmd))\n",
    "\n",
    "        cmd = ['fslroi',cal2,out_cal2,'1','1']\n",
    "        os.system(' '.join(cmd))      \n",
    "        \n",
    "        cmd = ['fslmerge','-t',out_f,out_cal2,out_cal1]\n",
    "        os.system(' '.join(cmd))\n",
    "    return out_dir"
   ]
  },
  {
   "cell_type": "code",
   "execution_count": null,
   "metadata": {
    "collapsed": true
   },
   "outputs": [],
   "source": [
    "#run analysis\n",
    "pool = multiprocessing.Pool(processes = 15)\n",
    "pool.map(merge_scans,sub_list)\n",
    "pool.terminate()\n",
    "pool.join()"
   ]
  },
  {
   "cell_type": "code",
   "execution_count": 33,
   "metadata": {
    "collapsed": true
   },
   "outputs": [],
   "source": [
    "#assign to correct run and motion correct (note that this wasn't necessary, it turns out)\n",
    "def create_fm(scan_tuple):\n",
    "    sub, exp, run = scan_tuple\n",
    "\n",
    "    home_dir = '/home/iballard/fd/'\n",
    "    out_dir = home_dir + 'data/' + sub + '/cal/lyman/'\n",
    "    data_f = home_dir + 'data/' + sub + '/func/' + exp + '/run_' + str(run) + '.nii.gz'\n",
    "\n",
    "    if os.path.exists(data_f):\n",
    "        if exp == 'loc': #localizers were run last\n",
    "            cal_scan = 4\n",
    "        elif run == 1:\n",
    "            cal_scan = 1\n",
    "        elif run == 2:\n",
    "            cal_scan = 2\n",
    "        elif run == 3:\n",
    "            cal_scan = 3\n",
    "\n",
    "        #for this subject, run2 cal scans are junk\n",
    "        if sub == 'fd_101' and run == 2 :\n",
    "            cal_scan = 1\n",
    "\n",
    "        #one subject has extra cal scan for 2nd localizer run on a different day\n",
    "        if sub == 'fd_115' and exp == 'loc' and run == 2:\n",
    "            cal_scan = 5\n",
    "\n",
    "        if sub == 'fd_127' and exp == 'sim' and run == 2:\n",
    "            cal_scan = 2 #one is messed up\n",
    "\n",
    "        #get correct field inputs\n",
    "        cal_scan = out_dir + '/merged_' + str(cal_scan)\n",
    "        out_cal = out_dir + '/fm_' + exp + '_' + str(run) + '_mc'\n",
    "        \n",
    "        if not os.path.exists(out_cal):\n",
    "            #run motion correction\n",
    "            out_f = out_dir + '/' + exp + str(run) + '_slice.nii.gz'\n",
    "            idx = (nib.load(data_f).shape[-1] - 8)//2 #middle volume\n",
    "            cmd = ['fslroi',data_f,out_f,str(idx),'1']\n",
    "            os.system(' '.join(cmd))\n",
    "            cmd = ['mcflirt','-in',cal_scan,'-reffile',out_f,'-out',out_cal]\n",
    "            os.system(' '.join(cmd))    \n",
    "            print ' '.join(cmd)\n",
    "\n",
    "    return out_dir"
   ]
  },
  {
   "cell_type": "code",
   "execution_count": 16,
   "metadata": {
    "collapsed": true
   },
   "outputs": [],
   "source": [
    "in_tuples = []\n",
    "for sub in #sub_list:\n",
    "    for exp in ['loc']:\n",
    "        for run in range(1,3):\n",
    "            in_tuples.append((sub,exp,run))"
   ]
  },
  {
   "cell_type": "code",
   "execution_count": 16,
   "metadata": {},
   "outputs": [
    {
     "name": "stdout",
     "output_type": "stream",
     "text": [
      "importing numpy on engine(s)\n",
      "importing os on engine(s)\n",
      "importing abspath from os.path on engine(s)\n",
      "importing nibabel on engine(s)\n"
     ]
    }
   ],
   "source": [
    "dview.block = True\n",
    "# dview.push(dict(home_dir=home_dir))\n",
    "dview.execute(\"import numpy as np\")\n",
    "dview.execute(\"import nibabel as nib\")\n",
    "with dview.sync_imports():\n",
    "    import numpy\n",
    "    import os\n",
    "    from os.path import abspath\n",
    "    import nibabel as nib\n",
    "out1 = dview.map_sync(create_fm,in_tuples)"
   ]
  },
  {
   "cell_type": "code",
   "execution_count": 23,
   "metadata": {
    "collapsed": true
   },
   "outputs": [],
   "source": [
    "#run analysis\n",
    "pool = multiprocessing.Pool(processes = 15)\n",
    "pool.map(create_fm,in_tuples)\n",
    "pool.terminate()\n",
    "pool.join()"
   ]
  },
  {
   "cell_type": "code",
   "execution_count": 34,
   "metadata": {
    "scrolled": true
   },
   "outputs": [
    {
     "name": "stdout",
     "output_type": "stream",
     "text": [
      "/data/home/iballard/fd/data/fd_115/cal/lyman/fm_loc_2_mc_pe0_pe1.nii.gz\n"
     ]
    }
   ],
   "source": [
    "#just take 2 slices from fieldmap \n",
    "for scan_tuple in in_tuples:\n",
    "    sub, exp, run = scan_tuple\n",
    "\n",
    "    out_dir = os.path.abspath('data/' + sub + '/cal/lyman/')\n",
    "    out_cal = out_dir + '/fm_' + exp + '_' + str(run) + '_mc.nii.gz'\n",
    "\n",
    "    if os.path.exists(out_cal):\n",
    "\n",
    "        tmp1 =  out_dir + '/' + sub + exp + str(run) + '_tmp1'\n",
    "        tmp2 =  out_dir + '/' + sub + exp + str(run) + '_tmp2'\n",
    "        tmp3 =  out_dir + '/fm_' + exp + '_' + str(run) + '_mc_pe0_pe1.nii.gz'\n",
    "        print tmp3\n",
    "        cmd = ['fslroi',out_cal,tmp1,'0','1']\n",
    "        os.system(' '.join(cmd))\n",
    "        \n",
    "        cmd = ['fslroi',out_cal,tmp2,'1','1']\n",
    "        os.system(' '.join(cmd))\n",
    "\n",
    "        cmd = ['fslmerge','-t',tmp3,tmp2,tmp1]\n",
    "        os.system(' '.join(cmd))\n",
    "        \n",
    "        os.remove(tmp1 + '.nii.gz')\n",
    "        os.remove(tmp2 + '.nii.gz')\n"
   ]
  },
  {
   "cell_type": "code",
   "execution_count": null,
   "metadata": {
    "collapsed": true
   },
   "outputs": [],
   "source": []
  }
 ],
 "metadata": {
  "kernelspec": {
   "display_name": "Python 2",
   "language": "python",
   "name": "python2"
  },
  "language_info": {
   "codemirror_mode": {
    "name": "ipython",
    "version": 2
   },
   "file_extension": ".py",
   "mimetype": "text/x-python",
   "name": "python",
   "nbconvert_exporter": "python",
   "pygments_lexer": "ipython2",
   "version": "2.7.13"
  }
 },
 "nbformat": 4,
 "nbformat_minor": 1
}
