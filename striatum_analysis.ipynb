{
 "cells": [
  {
   "cell_type": "code",
   "execution_count": 1,
   "metadata": {},
   "outputs": [
    {
     "name": "stderr",
     "output_type": "stream",
     "text": [
      "/home/iballard/anaconda/lib/python2.7/site-packages/h5py/__init__.py:34: FutureWarning: Conversion of the second argument of issubdtype from `float` to `np.floating` is deprecated. In future, it will be treated as `np.float64 == np.dtype(float).type`.\n",
      "  from ._conv import register_converters as _register_converters\n",
      "/home/iballard/anaconda/lib/python2.7/site-packages/statsmodels/compat/pandas.py:56: FutureWarning: The pandas.core.datetools module is deprecated and will be removed in a future version. Please use the pandas.tseries module instead.\n",
      "  from pandas.core import datetools\n"
     ]
    }
   ],
   "source": [
    "import nibabel as nib\n",
    "import os\n",
    "import numpy as np\n",
    "import os.path as op\n",
    "import seaborn as sns\n",
    "import glob\n",
    "import matplotlib\n",
    "import scipy\n",
    "import matplotlib.pyplot as plt\n",
    "import pandas as pd\n",
    "from nipype.interfaces import fsl\n",
    "from statsmodels.formula.api import ols\n",
    "import statsmodels.api as sm \n",
    "import statsmodels.formula.api as smf\n",
    "%matplotlib inline"
   ]
  },
  {
   "cell_type": "code",
   "execution_count": 3,
   "metadata": {
    "collapsed": true
   },
   "outputs": [],
   "source": [
    "#preliminary housekeeping\n",
    "home_dir = '/data/home/iballard/fd/'\n",
    "subj_file = home_dir + 'subjects.txt'\n",
    "subs = list(np.loadtxt(subj_file,'string'))\n",
    "os.chdir(home_dir)"
   ]
  },
  {
   "cell_type": "code",
   "execution_count": 16,
   "metadata": {
    "collapsed": true
   },
   "outputs": [],
   "source": [
    "exp = 'sim_4mm-PEdiffone'\n",
    "smooth = 'smoothed'\n",
    "masks = ['sim_4mm_striatum_PE_mf_mask']\n",
    "\n",
    "contrasts = ['PE_mb','PE_mf']\n",
    "contrast_map = {'PE_mb': '15', 'PE_mf': '14'}"
   ]
  },
  {
   "cell_type": "code",
   "execution_count": 17,
   "metadata": {},
   "outputs": [],
   "source": [
    "copes = {'sub':[],'mask':[],'run':[],'contrast':[],'cope':[]}\n",
    "\n",
    "for m in masks:\n",
    "    for contrast in contrasts:\n",
    "        for sub in subs:\n",
    "            #load ROI\n",
    "            mask = op.join(home_dir,'data', sub,  'masks', m + '.nii.gz')\n",
    "            mask = nib.load(mask).get_data().astype(bool)\n",
    "\n",
    "            sub_dir = op.join(home_dir,'analysis', exp, sub,'reg','epi',smooth)\n",
    "            runs = glob.glob(sub_dir + '/run*')\n",
    "            for run in runs:\n",
    "\n",
    "                #load stat image\n",
    "                stat = op.join(run, 'cope' + contrast_map[contrast] + '_xfm.nii.gz')\n",
    "                stat = nib.load(stat).get_data().astype(float)\n",
    "\n",
    "                #mask\n",
    "                stat = stat[mask]\n",
    "\n",
    "                copes['sub'].append(sub)\n",
    "                copes['mask'].append(m)\n",
    "                copes['run'].append(run[-1])\n",
    "                copes['contrast'].append(contrast)\n",
    "                copes['cope'].append(np.nanmean(stat))\n",
    "copes = pd.DataFrame(copes)"
   ]
  },
  {
   "cell_type": "code",
   "execution_count": 27,
   "metadata": {},
   "outputs": [
    {
     "name": "stdout",
     "output_type": "stream",
     "text": [
      "PE_mb\n",
      "          Mixed Linear Model Regression Results\n",
      "=========================================================\n",
      "Model:            MixedLM Dependent Variable: cope       \n",
      "No. Observations: 94      Method:             REML       \n",
      "No. Groups:       32      Scale:              220522.6679\n",
      "Min. group size:  2       Likelihood:         -714.9661  \n",
      "Max. group size:  3       Converged:          Yes        \n",
      "Mean group size:  2.9                                    \n",
      "---------------------------------------------------------\n",
      "             Coef.   Std.Err.   z   P>|z|  [0.025  0.975]\n",
      "---------------------------------------------------------\n",
      "Intercept    259.349   64.054 4.049 0.000 133.805 384.894\n",
      "groups RE  55848.724   89.479                            \n",
      "=========================================================\n",
      "\n",
      "Intercept    4.048898\n",
      "groups RE    1.329119\n",
      "dtype: float64\n",
      "dz 0.7157508021959001\n",
      "PE_mf\n",
      "          Mixed Linear Model Regression Results\n",
      "========================================================\n",
      "Model:            MixedLM Dependent Variable: cope      \n",
      "No. Observations: 94      Method:             REML      \n",
      "No. Groups:       32      Scale:              48382.3652\n",
      "Min. group size:  2       Likelihood:         -650.1781 \n",
      "Max. group size:  3       Converged:          Yes       \n",
      "Mean group size:  2.9                                   \n",
      "--------------------------------------------------------\n",
      "            Coef.   Std.Err.   z   P>|z|  [0.025  0.975]\n",
      "--------------------------------------------------------\n",
      "Intercept   247.588   36.116 6.855 0.000 176.801 318.375\n",
      "groups RE 25175.779   58.976                            \n",
      "========================================================\n",
      "\n",
      "Intercept    6.855298\n",
      "groups RE    1.940735\n",
      "dtype: float64\n",
      "dz 1.211856993282434\n"
     ]
    }
   ],
   "source": [
    "err = []\n",
    "for c in contrasts:\n",
    "    contrast = copes.set_index('contrast').loc[c]\n",
    "    model_str = 'cope ~ 1'\n",
    "    mixedfx = smf.mixedlm(model_str, contrast, groups = contrast['sub'])    \n",
    "    mixedfx = mixedfx.fit()\n",
    "    print c\n",
    "    print mixedfx.summary()\n",
    "    print mixedfx.tvalues\n",
    "    e =  mixedfx.bse['Intercept']\n",
    "    dz = mixedfx.params['Intercept'] / (e * np.sqrt(len(subs)))\n",
    "    print 'dz',dz\n",
    "    err.append(e)"
   ]
  },
  {
   "cell_type": "code",
   "execution_count": 28,
   "metadata": {
    "collapsed": true
   },
   "outputs": [],
   "source": [
    "def remove_intercept_variance(x, group_mean):\n",
    "    return x - x.mean() + group_mean"
   ]
  },
  {
   "cell_type": "code",
   "execution_count": 30,
   "metadata": {},
   "outputs": [
    {
     "name": "stderr",
     "output_type": "stream",
     "text": [
      "/home/iballard/anaconda/lib/python2.7/site-packages/ipykernel_launcher.py:2: SettingWithCopyWarning: \n",
      "A value is trying to be set on a copy of a slice from a DataFrame.\n",
      "Try using .loc[row_indexer,col_indexer] = value instead\n",
      "\n",
      "See the caveats in the documentation: http://pandas.pydata.org/pandas-docs/stable/indexing.html#indexing-view-versus-copy\n",
      "  \n",
      "/home/iballard/anaconda/lib/python2.7/site-packages/ipykernel_launcher.py:4: SettingWithCopyWarning: \n",
      "A value is trying to be set on a copy of a slice from a DataFrame.\n",
      "Try using .loc[row_indexer,col_indexer] = value instead\n",
      "\n",
      "See the caveats in the documentation: http://pandas.pydata.org/pandas-docs/stable/indexing.html#indexing-view-versus-copy\n",
      "  after removing the cwd from sys.path.\n"
     ]
    }
   ],
   "source": [
    "mb = copes[copes['contrast'] == 'PE_mb']\n",
    "mb['cope_within'] = mb.groupby('sub').cope.transform(remove_intercept_variance,mb.cope.mean())\n",
    "mf = copes[copes['contrast'] == 'PE_mf']\n",
    "mf['cope_within'] = mf.groupby('sub').cope.transform(remove_intercept_variance,mf.cope.mean())\n",
    "df = pd.concat([mb,mf])\n",
    "df.to_csv('/home/iballard/Dropbox/fd/paper/data/striatum_copes.csv', index = False)"
   ]
  },
  {
   "cell_type": "code",
   "execution_count": 20,
   "metadata": {},
   "outputs": [
    {
     "data": {
      "image/png": "[encoded data removed]",
      "text/plain": [
       "<Figure size 720x720 with 1 Axes>"
      ]
     },
     "metadata": {},
     "output_type": "display_data"
    }
   ],
   "source": [
    "palette = [\"#A1B6C6\",\"#A1B6C6\"]\n",
    "id_map = {'PE_mb':'Conjunction PE','PE_mf':'Feature PE'}\n",
    "df['contrast'] = [id_map[x] for x in df['contrast']]\n",
    "\n",
    "sns.set_context('paper',font_scale = 2.5)\n",
    "sns.set_style(\"white\")\n",
    "\n",
    "ax = sns.barplot(x='contrast',\n",
    "                 y='cope_within',\n",
    "                capsize=.2,\n",
    "                 palette = palette,\n",
    "                 errwidth=4,                \n",
    "                 data=df)\n",
    "ax = sns.swarmplot(x='contrast',\n",
    "                   y='cope_within',\n",
    "                   data=df,\n",
    "                   color = 'grey',\n",
    "                   edgecolor = 'grey'\n",
    "                  )\n",
    "\n",
    "\n",
    "# plt.title('Striatal Prediction Errors')\n",
    "plt.ylabel('Beta (AU)')\n",
    "plt.xlabel('')\n",
    "sns.despine()\n",
    "plt.savefig('/home/iballard/Dropbox/fd/figs/revision/mfx_striatum.png', \n",
    "            dpi = 600,\n",
    "           bbox_inches = 'tight')"
   ]
  },
  {
   "cell_type": "code",
   "execution_count": 90,
   "metadata": {
    "collapsed": true
   },
   "outputs": [],
   "source": [
    "# copes.to_csv(home_dir + 'striatum_pe.csv', index = False)"
   ]
  },
  {
   "cell_type": "markdown",
   "metadata": {},
   "source": [
    "# Create leave-one-subject-out masks"
   ]
  },
  {
   "cell_type": "code",
   "execution_count": 5,
   "metadata": {
    "scrolled": true
   },
   "outputs": [],
   "source": [
    "#first run n_subs 3rd levels\n",
    "for sub in subs:\n",
    "    other_subs = [x for x in subs if x!= sub]\n",
    "    \n",
    "    contrast_f = op.join(home_dir, 'analysis', 'sim_4mm-PEdiffone', 'PEdiffone-' + sub,'mni')\n",
    "    if not op.exists(contrast_f):\n",
    "        cmd = ['run_group.py','-e','sim_4mm','-altmodel','PEdiffone',\n",
    "               '-nprocs','56','-output','PEdiffone-' + sub,s\n",
    "               '-regspace','mni','-s']\n",
    "        for s in other_subs:\n",
    "            cmd.append(s)\n",
    "\n",
    "        cmd = ' '.join(cmd)\n",
    "#         os.system(cmd)    "
   ]
  },
  {
   "cell_type": "code",
   "execution_count": 16,
   "metadata": {
    "collapsed": true,
    "scrolled": true
   },
   "outputs": [],
   "source": [
    "for sub in subs:\n",
    "    contrast_f = op.join(home_dir, 'analysis', 'sim_4mm-PEdiffone', 'PEdiffone-' + sub,'mni',\n",
    "                        'PE_mb','zstat1.nii.gz')\n",
    "    thresh = 1.65 #p<.05 \n",
    "    anat_mask = op.join(home_dir, 'analysis', 'striatum',\n",
    "                        'striatum_frontal_limbic.nii.gz')\n",
    "    out_mask = op.join(home_dir, 'analysis', 'striatum','l1so',\n",
    "                       'striatum_frontal_limbic_PE_mf_' + sub + '.nii.gz')\n",
    "    \n",
    "    if op.exists(contrast_f):\n",
    "        \n",
    "        #threshold and binarize stat mask, multiply by striatal mask, and save result\n",
    "        cmd = ['fslmaths',\n",
    "               contrast_f,\n",
    "               '-thr',str(thresh),\n",
    "               '-bin',\n",
    "               '-mul',anat_mask,\n",
    "               out_mask]\n",
    "        os.system(' '.join(cmd))\n",
    "    else: \n",
    "        print contrast_f\n"
   ]
  },
  {
   "cell_type": "code",
   "execution_count": 18,
   "metadata": {},
   "outputs": [],
   "source": [
    "#make masks in subject functional space\n",
    "for sub in subs: \n",
    "    #set paths\n",
    "    mask_path = op.join(home_dir,'data',sub)\n",
    "    out_dir = op.join(mask_path, 'masks')\n",
    "\n",
    "    #copy warpfile to make ANTs happy\n",
    "    warp = op.join(mask_path, 'normalization','inverse_warpfield.nii.gz')\n",
    "    warpfield = op.join(mask_path, 'normalization','InverseWarp.nii.gz')\n",
    "    cmd = ['ln','-s',warp, warpfield]\n",
    "#     os.system(' '.join(cmd))\n",
    "\n",
    "    #get MNI mask\n",
    "    roi = 'striatum_l1so'\n",
    "    im = op.join(home_dir, 'analysis', 'striatum','l1so',\n",
    "                 'striatum_frontal_limbic_PE_mf_' + sub + '.nii.gz')\n",
    "\n",
    "    #warp to subject space\n",
    "    out_warp = op.join(out_dir, roi + '_anat_space.nii.gz')\n",
    "    ref_file = fsl.Info.standard_image(\"avg152T1_brain.nii.gz\")\n",
    "    affine = op.join(home_dir, 'data', sub, 'normalization','affine.txt')\n",
    "    anat = op.join(home_dir, 'data', sub, 'anat', 'T1_native.nii.gz')\n",
    "\n",
    "    if os.path.exists(out_warp):\n",
    "        os.remove(out_warp)\n",
    "    cmd_str = ['WarpImageMultiTransform','3',im,out_warp,'-i',affine,warpfield,\n",
    "               '-R',anat]\n",
    "    cmd_str = ' '.join(cmd_str)\n",
    "#     os.system(cmd_str)\n",
    "\n",
    "    #register to functional space\n",
    "    sub_path = op.join(home_dir, 'analysis',  exp, sub)\n",
    "\n",
    "    #register to func\n",
    "    transform = op.join(sub_path, 'preproc', 'run_1', 'func2anat_tkreg.dat')\n",
    "    mean_func = op.join(sub_path, 'preproc', 'run_1', 'mean_func.nii.gz')\n",
    "    out_rigid = op.join(out_dir, exp + '_' + roi + '_func_space.nii.gz')\n",
    "    if os.path.exists(out_rigid):\n",
    "        os.remove(out_rigid)\n",
    "    cmd_line = ['mri_vol2vol','--mov',mean_func,'--targ',out_warp,'--reg',transform,'--o',out_rigid,\n",
    "                '--no-save-reg','--inv']\n",
    "#     os.system(' '.join(cmd_line))\n",
    "\n",
    "    #binarize\n",
    "    out_mask = op.join(out_dir, exp + '_' + roi + '_mask.nii.gz')\n",
    "    if os.path.exists(out_mask):\n",
    "        os.remove(out_mask)\n",
    "    cmd = ['fslmaths',out_rigid,'-thr','.1','-bin',out_mask]\n",
    "#     os.system(' '.join(cmd))\n"
   ]
  },
  {
   "cell_type": "code",
   "execution_count": null,
   "metadata": {
    "collapsed": true
   },
   "outputs": [],
   "source": []
  }
 ],
 "metadata": {
  "kernelspec": {
   "display_name": "Python 2",
   "language": "python",
   "name": "python2"
  },
  "language_info": {
   "codemirror_mode": {
    "name": "ipython",
    "version": 2
   },
   "file_extension": ".py",
   "mimetype": "text/x-python",
   "name": "python",
   "nbconvert_exporter": "python",
   "pygments_lexer": "ipython2",
   "version": "2.7.13"
  }
 },
 "nbformat": 4,
 "nbformat_minor": 1
}
