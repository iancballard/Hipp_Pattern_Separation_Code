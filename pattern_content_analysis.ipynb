{
 "cells": [
  {
   "cell_type": "code",
   "execution_count": 2,
   "metadata": {},
   "outputs": [
    {
     "name": "stderr",
     "output_type": "stream",
     "text": [
      "/home/iballard/anaconda/lib/python2.7/site-packages/h5py/__init__.py:34: FutureWarning: Conversion of the second argument of issubdtype from `float` to `np.floating` is deprecated. In future, it will be treated as `np.float64 == np.dtype(float).type`.\n",
      "  from ._conv import register_converters as _register_converters\n",
      "/home/iballard/anaconda/lib/python2.7/site-packages/statsmodels/compat/pandas.py:56: FutureWarning: The pandas.core.datetools module is deprecated and will be removed in a future version. Please use the pandas.tseries module instead.\n",
      "  from pandas.core import datetools\n"
     ]
    }
   ],
   "source": [
    "import nibabel as nib\n",
    "import os\n",
    "import numpy as np\n",
    "import os.path as op\n",
    "import scipy\n",
    "import pandas as pd\n",
    "import pickle\n",
    "import scipy.stats\n",
    "from ipyparallel import Client\n",
    "from statsmodels.formula.api import ols\n",
    "import statsmodels.api as sm \n",
    "import statsmodels.formula.api as smf\n",
    "from sklearn import manifold\n",
    "from sklearn.decomposition import PCA\n",
    "import seaborn as sns\n",
    "import matplotlib\n",
    "import matplotlib.pyplot as plt\n",
    "from statsmodels.stats.multitest import multipletests, fdrcorrection\n",
    "\n",
    "\n",
    "#classification\n",
    "from sklearn.linear_model import LogisticRegression\n",
    "from sklearn import preprocessing, metrics, feature_selection, decomposition\n",
    "from sklearn.model_selection import cross_val_score, LeaveOneGroupOut\n",
    "from sklearn.pipeline import make_pipeline\n",
    "from sklearn.metrics import confusion_matrix\n",
    "%matplotlib inline\n"
   ]
  },
  {
   "cell_type": "code",
   "execution_count": 6,
   "metadata": {
    "collapsed": true
   },
   "outputs": [],
   "source": [
    "rc = Client()"
   ]
  },
  {
   "cell_type": "code",
   "execution_count": 3,
   "metadata": {},
   "outputs": [],
   "source": [
    "#preliminary housekeeping\n",
    "home_dir = '/data/home/iballard/fd/'\n",
    "subj_file = home_dir + 'subjects.txt'\n",
    "subs = list(np.loadtxt(subj_file,'string'))\n",
    "os.chdir(home_dir)"
   ]
  },
  {
   "cell_type": "code",
   "execution_count": 23,
   "metadata": {
    "collapsed": true
   },
   "outputs": [],
   "source": [
    "def get_matching_cond(run,cond):\n",
    "    if cond in ['b_plus','c_minus']:\n",
    "        conj = 'double'\n",
    "    else:\n",
    "        conj = 'single'\n",
    "    \n",
    "    if run == 1:\n",
    "        if cond in ['b_plus','b_minus']:\n",
    "            stim = 'face'\n",
    "            ctrl = 'body'\n",
    "        else:\n",
    "            stim = 'body'\n",
    "            ctrl = 'face'\n",
    "    elif run == 2:\n",
    "        if cond in ['b_plus','b_minus']:\n",
    "            stim = 'body'\n",
    "            ctrl = 'place'\n",
    "        else:\n",
    "            stim = 'place'\n",
    "            ctrl = 'body'\n",
    "    elif run == 3:\n",
    "        if cond in ['b_plus','b_minus']:\n",
    "            stim = 'place'\n",
    "            ctrl = 'face'\n",
    "        else:\n",
    "            stim = 'face'\n",
    "            ctrl = 'place'\n",
    "                \n",
    "    return stim, conj, ctrl\n"
   ]
  },
  {
   "cell_type": "code",
   "execution_count": 32,
   "metadata": {
    "collapsed": true
   },
   "outputs": [],
   "source": [
    "smooth = 'smoothed'\n",
    "similarity_df = {'mask':[],'sub':[],'run':[],'condition':[],'corr':[],'conjunction':[],'target_stim':[]}\n",
    "for m in ['hipp','peri_sim','para_sim']:\n",
    "    for sub in subs:\n",
    "\n",
    "        #load loc betas and take mean across trials\n",
    "        out_f = op.join(home_dir,'betas','whitened', '_'.join(['loc-betas',sub,smooth,m]) + '.csv')\n",
    "        betas = pd.read_csv(out_f)\n",
    "        template = betas.groupby(['condition','voxel']).mean()\n",
    " \n",
    "        #load sim betas and organize by trial\n",
    "        out_f = op.join(home_dir,'betas','whitened', '_'.join(['sim_4mm-betas',sub,smooth,m]) + '.csv')\n",
    "        sim_betas = pd.read_csv(out_f)\n",
    "        sim_betas = sim_betas.set_index(['run','condition','trial'])\n",
    "\n",
    "        #compute correlation with template\n",
    "        for run, cond, trial in set(sim_betas.index):\n",
    "            stim, conj, ctrl = get_matching_cond(int(run),cond)\n",
    "            corr = scipy.stats.pearsonr(sim_betas.loc[(run,cond,trial),'value'].values,\n",
    "                                        template.loc[stim,'value'].values)[0]\n",
    "\n",
    "            baseline = scipy.stats.pearsonr(sim_betas.loc[(run,cond,trial),'value'].values,\n",
    "                                        template.loc[ctrl,'value'].values)[0]\n",
    "            corr = corr #- baseline\n",
    "            \n",
    "            #log results\n",
    "            similarity_df['sub'].append(sub)\n",
    "            similarity_df['run'].append(run)\n",
    "            similarity_df['mask'].append(m)\n",
    "            similarity_df['condition'].append(cond)\n",
    "            similarity_df['corr'].append(corr)\n",
    "            similarity_df['conjunction'].append(conj)\n",
    "            similarity_df['target_stim'].append(stim)\n",
    "\n",
    "\n",
    "similarity_df = pd.DataFrame(similarity_df)"
   ]
  },
  {
   "cell_type": "code",
   "execution_count": 39,
   "metadata": {
    "collapsed": true
   },
   "outputs": [],
   "source": [
    "similarity_df.to_csv('/home/iballard/Dropbox/fd/paper/data/localizer_similarity.csv',index = False)\n",
    "\n",
    "reg_map = {'hipp':'Hippocampus','para_sim':'PHc', 'peri_sim':'PRc','yeo17_ifs':'IFS',\n",
    "           'mOFC_fill_sim':'mOFC'}\n",
    "similarity_df['roi'] = [reg_map[x] for x in similarity_df['mask']]"
   ]
  },
  {
   "cell_type": "code",
   "execution_count": 98,
   "metadata": {},
   "outputs": [
    {
     "name": "stderr",
     "output_type": "stream",
     "text": [
      "/home/iballard/anaconda/lib/python2.7/site-packages/statsmodels/regression/mixed_linear_model.py:2019: ConvergenceWarning: The MLE may be on the boundary of the parameter space.\n",
      "  warnings.warn(msg, ConvergenceWarning)\n"
     ]
    },
    {
     "data": {
      "text/html": [
       "<table class=\"simpletable\">\n",
       "<tr>\n",
       "       <td>Model:</td>       <td>MixedLM</td> <td>Dependent Variable:</td>    <td>corr</td>   \n",
       "</tr>\n",
       "<tr>\n",
       "  <td>No. Observations:</td>  <td>11280</td>        <td>Method:</td>          <td>REML</td>   \n",
       "</tr>\n",
       "<tr>\n",
       "     <td>No. Groups:</td>      <td>32</td>          <td>Scale:</td>          <td>0.0035</td>  \n",
       "</tr>\n",
       "<tr>\n",
       "  <td>Min. group size:</td>    <td>240</td>       <td>Likelihood:</td>     <td>15821.3824</td>\n",
       "</tr>\n",
       "<tr>\n",
       "  <td>Max. group size:</td>    <td>360</td>       <td>Converged:</td>          <td>Yes</td>   \n",
       "</tr>\n",
       "<tr>\n",
       "  <td>Mean group size:</td>   <td>352.5</td>           <td></td>                <td></td>     \n",
       "</tr>\n",
       "</table>\n",
       "<table class=\"simpletable\">\n",
       "<tr>\n",
       "                      <td></td>                       <th>Coef.</th> <th>Std.Err.</th>    <th>z</th>   <th>P>|z|</th> <th>[0.025</th> <th>0.975]</th>\n",
       "</tr>\n",
       "<tr>\n",
       "  <th>Intercept</th>                                 <td>-0.003</td>   <td>0.001</td>  <td>-2.287</td> <td>0.022</td> <td>-0.006</td> <td>-0.000</td>\n",
       "</tr>\n",
       "<tr>\n",
       "  <th>conjunction[T.single]</th>                      <td>0.005</td>   <td>0.002</td>   <td>2.621</td> <td>0.009</td>  <td>0.001</td>  <td>0.009</td>\n",
       "</tr>\n",
       "<tr>\n",
       "  <th>mask[T.para_sim]</th>                           <td>0.008</td>   <td>0.002</td>   <td>4.121</td> <td>0.000</td>  <td>0.004</td>  <td>0.012</td>\n",
       "</tr>\n",
       "<tr>\n",
       "  <th>mask[T.peri_sim]</th>                           <td>0.005</td>   <td>0.002</td>   <td>2.122</td> <td>0.034</td>  <td>0.000</td>  <td>0.009</td>\n",
       "</tr>\n",
       "<tr>\n",
       "  <th>conjunction[T.single]:mask[T.para_sim]</th>    <td>-0.007</td>   <td>0.003</td>  <td>-2.395</td> <td>0.017</td> <td>-0.012</td> <td>-0.001</td>\n",
       "</tr>\n",
       "<tr>\n",
       "  <th>conjunction[T.single]:mask[T.peri_sim]</th>    <td>-0.006</td>   <td>0.003</td>  <td>-2.364</td> <td>0.018</td> <td>-0.012</td> <td>-0.001</td>\n",
       "</tr>\n",
       "<tr>\n",
       "  <th>Intercept RE</th>                               <td>0.000</td>   <td>0.000</td>     <td></td>      <td></td>       <td></td>       <td></td>   \n",
       "</tr>\n",
       "<tr>\n",
       "  <th>Intercept RE x mask[T.para_sim] RE</th>         <td>0.000</td>   <td>0.000</td>     <td></td>      <td></td>       <td></td>       <td></td>   \n",
       "</tr>\n",
       "<tr>\n",
       "  <th>mask[T.para_sim] RE</th>                        <td>0.000</td>   <td>0.000</td>     <td></td>      <td></td>       <td></td>       <td></td>   \n",
       "</tr>\n",
       "<tr>\n",
       "  <th>Intercept RE x mask[T.peri_sim] RE</th>        <td>-0.000</td>   <td>0.000</td>     <td></td>      <td></td>       <td></td>       <td></td>   \n",
       "</tr>\n",
       "<tr>\n",
       "  <th>mask[T.para_sim] RE x mask[T.peri_sim] RE</th>  <td>0.000</td>   <td>0.000</td>     <td></td>      <td></td>       <td></td>       <td></td>   \n",
       "</tr>\n",
       "<tr>\n",
       "  <th>mask[T.peri_sim] RE</th>                        <td>0.000</td>   <td>0.000</td>     <td></td>      <td></td>       <td></td>       <td></td>   \n",
       "</tr>\n",
       "</table>"
      ],
      "text/plain": [
       "<class 'statsmodels.iolib.summary2.Summary'>\n",
       "\"\"\"\n",
       "                        Mixed Linear Model Regression Results\n",
       "====================================================================================\n",
       "Model:                      MixedLM          Dependent Variable:          corr      \n",
       "No. Observations:           11280            Method:                      REML      \n",
       "No. Groups:                 32               Scale:                       0.0035    \n",
       "Min. group size:            240              Likelihood:                  15821.3824\n",
       "Max. group size:            360              Converged:                   Yes       \n",
       "Mean group size:            352.5                                                   \n",
       "------------------------------------------------------------------------------------\n",
       "                                          Coef.  Std.Err.   z    P>|z| [0.025 0.975]\n",
       "------------------------------------------------------------------------------------\n",
       "Intercept                                 -0.003    0.001 -2.287 0.022 -0.006 -0.000\n",
       "conjunction[T.single]                      0.005    0.002  2.621 0.009  0.001  0.009\n",
       "mask[T.para_sim]                           0.008    0.002  4.121 0.000  0.004  0.012\n",
       "mask[T.peri_sim]                           0.005    0.002  2.122 0.034  0.000  0.009\n",
       "conjunction[T.single]:mask[T.para_sim]    -0.007    0.003 -2.395 0.017 -0.012 -0.001\n",
       "conjunction[T.single]:mask[T.peri_sim]    -0.006    0.003 -2.364 0.018 -0.012 -0.001\n",
       "Intercept RE                               0.000    0.000                           \n",
       "Intercept RE x mask[T.para_sim] RE         0.000    0.000                           \n",
       "mask[T.para_sim] RE                        0.000    0.000                           \n",
       "Intercept RE x mask[T.peri_sim] RE        -0.000    0.000                           \n",
       "mask[T.para_sim] RE x mask[T.peri_sim] RE  0.000    0.000                           \n",
       "mask[T.peri_sim] RE                        0.000    0.000                           \n",
       "====================================================================================\n",
       "\n",
       "\"\"\""
      ]
     },
     "execution_count": 98,
     "metadata": {},
     "output_type": "execute_result"
    }
   ],
   "source": [
    "model_str = 'corr ~ conjunction*mask'\n",
    "mixedfx = smf.mixedlm(model_str, similarity_df, groups = similarity_df['sub'], re_formula = '~mask').fit()\n",
    "mixedfx.summary()"
   ]
  },
  {
   "cell_type": "code",
   "execution_count": 101,
   "metadata": {},
   "outputs": [
    {
     "name": "stderr",
     "output_type": "stream",
     "text": [
      "/home/iballard/anaconda/lib/python2.7/site-packages/statsmodels/regression/mixed_linear_model.py:2019: ConvergenceWarning: The MLE may be on the boundary of the parameter space.\n",
      "  warnings.warn(msg, ConvergenceWarning)\n"
     ]
    },
    {
     "data": {
      "text/html": [
       "<table class=\"simpletable\">\n",
       "<tr>\n",
       "       <td>Model:</td>       <td>MixedLM</td> <td>Dependent Variable:</td>    <td>corr</td>   \n",
       "</tr>\n",
       "<tr>\n",
       "  <td>No. Observations:</td>  <td>11280</td>        <td>Method:</td>          <td>REML</td>   \n",
       "</tr>\n",
       "<tr>\n",
       "     <td>No. Groups:</td>      <td>32</td>          <td>Scale:</td>          <td>0.0029</td>  \n",
       "</tr>\n",
       "<tr>\n",
       "  <td>Min. group size:</td>    <td>240</td>       <td>Likelihood:</td>     <td>16860.6215</td>\n",
       "</tr>\n",
       "<tr>\n",
       "  <td>Max. group size:</td>    <td>360</td>       <td>Converged:</td>          <td>Yes</td>   \n",
       "</tr>\n",
       "<tr>\n",
       "  <td>Mean group size:</td>   <td>352.5</td>           <td></td>                <td></td>     \n",
       "</tr>\n",
       "</table>\n",
       "<table class=\"simpletable\">\n",
       "<tr>\n",
       "                      <td></td>                       <th>Coef.</th> <th>Std.Err.</th>    <th>z</th>   <th>P>|z|</th> <th>[0.025</th> <th>0.975]</th>\n",
       "</tr>\n",
       "<tr>\n",
       "  <th>Intercept</th>                                  <td>0.001</td>   <td>0.003</td>   <td>0.180</td> <td>0.857</td> <td>-0.005</td>  <td>0.006</td>\n",
       "</tr>\n",
       "<tr>\n",
       "  <th>conjunction[T.single]</th>                      <td>0.003</td>   <td>0.002</td>   <td>1.885</td> <td>0.059</td> <td>-0.000</td>  <td>0.007</td>\n",
       "</tr>\n",
       "<tr>\n",
       "  <th>mask[T.para_sim]</th>                           <td>0.020</td>   <td>0.005</td>   <td>4.110</td> <td>0.000</td>  <td>0.011</td>  <td>0.030</td>\n",
       "</tr>\n",
       "<tr>\n",
       "  <th>mask[T.peri_sim]</th>                           <td>0.013</td>   <td>0.004</td>   <td>2.826</td> <td>0.005</td>  <td>0.004</td>  <td>0.021</td>\n",
       "</tr>\n",
       "<tr>\n",
       "  <th>conjunction[T.single]:mask[T.para_sim]</th>    <td>-0.006</td>   <td>0.002</td>  <td>-2.231</td> <td>0.026</td> <td>-0.010</td> <td>-0.001</td>\n",
       "</tr>\n",
       "<tr>\n",
       "  <th>conjunction[T.single]:mask[T.peri_sim]</th>    <td>-0.006</td>   <td>0.002</td>  <td>-2.619</td> <td>0.009</td> <td>-0.011</td> <td>-0.002</td>\n",
       "</tr>\n",
       "<tr>\n",
       "  <th>Intercept RE</th>                               <td>0.000</td>   <td>0.001</td>     <td></td>      <td></td>       <td></td>       <td></td>   \n",
       "</tr>\n",
       "<tr>\n",
       "  <th>Intercept RE x mask[T.para_sim] RE</th>        <td>-0.000</td>   <td>0.002</td>     <td></td>      <td></td>       <td></td>       <td></td>   \n",
       "</tr>\n",
       "<tr>\n",
       "  <th>mask[T.para_sim] RE</th>                        <td>0.001</td>   <td>0.004</td>     <td></td>      <td></td>       <td></td>       <td></td>   \n",
       "</tr>\n",
       "<tr>\n",
       "  <th>Intercept RE x mask[T.peri_sim] RE</th>        <td>-0.000</td>   <td>0.002</td>     <td></td>      <td></td>       <td></td>       <td></td>   \n",
       "</tr>\n",
       "<tr>\n",
       "  <th>mask[T.para_sim] RE x mask[T.peri_sim] RE</th>  <td>0.000</td>   <td>0.002</td>     <td></td>      <td></td>       <td></td>       <td></td>   \n",
       "</tr>\n",
       "<tr>\n",
       "  <th>mask[T.peri_sim] RE</th>                        <td>0.001</td>   <td>0.003</td>     <td></td>      <td></td>       <td></td>       <td></td>   \n",
       "</tr>\n",
       "</table>"
      ],
      "text/plain": [
       "<class 'statsmodels.iolib.summary2.Summary'>\n",
       "\"\"\"\n",
       "                        Mixed Linear Model Regression Results\n",
       "====================================================================================\n",
       "Model:                      MixedLM          Dependent Variable:          corr      \n",
       "No. Observations:           11280            Method:                      REML      \n",
       "No. Groups:                 32               Scale:                       0.0029    \n",
       "Min. group size:            240              Likelihood:                  16860.6215\n",
       "Max. group size:            360              Converged:                   Yes       \n",
       "Mean group size:            352.5                                                   \n",
       "------------------------------------------------------------------------------------\n",
       "                                          Coef.  Std.Err.   z    P>|z| [0.025 0.975]\n",
       "------------------------------------------------------------------------------------\n",
       "Intercept                                  0.001    0.003  0.180 0.857 -0.005  0.006\n",
       "conjunction[T.single]                      0.003    0.002  1.885 0.059 -0.000  0.007\n",
       "mask[T.para_sim]                           0.020    0.005  4.110 0.000  0.011  0.030\n",
       "mask[T.peri_sim]                           0.013    0.004  2.826 0.005  0.004  0.021\n",
       "conjunction[T.single]:mask[T.para_sim]    -0.006    0.002 -2.231 0.026 -0.010 -0.001\n",
       "conjunction[T.single]:mask[T.peri_sim]    -0.006    0.002 -2.619 0.009 -0.011 -0.002\n",
       "Intercept RE                               0.000    0.001                           \n",
       "Intercept RE x mask[T.para_sim] RE        -0.000    0.002                           \n",
       "mask[T.para_sim] RE                        0.001    0.004                           \n",
       "Intercept RE x mask[T.peri_sim] RE        -0.000    0.002                           \n",
       "mask[T.para_sim] RE x mask[T.peri_sim] RE  0.000    0.002                           \n",
       "mask[T.peri_sim] RE                        0.001    0.003                           \n",
       "====================================================================================\n",
       "\n",
       "\"\"\""
      ]
     },
     "execution_count": 101,
     "metadata": {},
     "output_type": "execute_result"
    }
   ],
   "source": [
    "model_str = 'corr ~ conjunction*mask'\n",
    "mixedfx = smf.mixedlm(model_str, similarity_df, groups = similarity_df['sub'], re_formula = '~mask').fit()\n",
    "mixedfx.summary()"
   ]
  },
  {
   "cell_type": "code",
   "execution_count": 108,
   "metadata": {},
   "outputs": [
    {
     "name": "stderr",
     "output_type": "stream",
     "text": [
      "/home/iballard/anaconda/lib/python2.7/site-packages/statsmodels/base/model.py:496: ConvergenceWarning: Maximum Likelihood optimization failed to converge. Check mle_retvals\n",
      "  \"Check mle_retvals\", ConvergenceWarning)\n",
      "/home/iballard/anaconda/lib/python2.7/site-packages/statsmodels/base/model.py:496: ConvergenceWarning: Maximum Likelihood optimization failed to converge. Check mle_retvals\n",
      "  \"Check mle_retvals\", ConvergenceWarning)\n",
      "/home/iballard/anaconda/lib/python2.7/site-packages/statsmodels/base/model.py:496: ConvergenceWarning: Maximum Likelihood optimization failed to converge. Check mle_retvals\n",
      "  \"Check mle_retvals\", ConvergenceWarning)\n",
      "/home/iballard/anaconda/lib/python2.7/site-packages/statsmodels/base/model.py:496: ConvergenceWarning: Maximum Likelihood optimization failed to converge. Check mle_retvals\n",
      "  \"Check mle_retvals\", ConvergenceWarning)\n"
     ]
    },
    {
     "name": "stdout",
     "output_type": "stream",
     "text": [
      "Intercept                3.123347\n",
      "conjunction[T.single]   -0.710110\n",
      "groups RE                0.522062\n",
      "dtype: float64\n",
      "                              0         1\n",
      "Intercept              0.001780  0.007780\n",
      "conjunction[T.single] -0.005566  0.002606\n",
      "groups RE             -0.003624  0.006256\n",
      "pe -0.00148037207151\n",
      "dz -0.125530884679\n",
      "              Mixed Linear Model Regression Results\n",
      "================================================================\n",
      "Model:               MixedLM    Dependent Variable:    corr     \n",
      "No. Observations:    3760       Method:                REML     \n",
      "No. Groups:          32         Scale:                 0.0041   \n",
      "Min. group size:     80         Likelihood:            4993.0633\n",
      "Max. group size:     120        Converged:             No       \n",
      "Mean group size:     117.5                                      \n",
      "----------------------------------------------------------------\n",
      "                      Coef.  Std.Err.   z    P>|z| [0.025 0.975]\n",
      "----------------------------------------------------------------\n",
      "Intercept              0.005    0.002  3.123 0.002  0.002  0.008\n",
      "conjunction[T.single] -0.001    0.002 -0.710 0.478 -0.006  0.003\n",
      "groups RE              0.000    0.000                           \n",
      "================================================================\n",
      "\n"
     ]
    },
    {
     "name": "stderr",
     "output_type": "stream",
     "text": [
      "/home/iballard/anaconda/lib/python2.7/site-packages/statsmodels/base/model.py:496: ConvergenceWarning: Maximum Likelihood optimization failed to converge. Check mle_retvals\n",
      "  \"Check mle_retvals\", ConvergenceWarning)\n",
      "/home/iballard/anaconda/lib/python2.7/site-packages/statsmodels/regression/mixed_linear_model.py:2001: ConvergenceWarning: Gradient optimization failed.\n",
      "  warnings.warn(msg, ConvergenceWarning)\n",
      "/home/iballard/anaconda/lib/python2.7/site-packages/statsmodels/regression/mixed_linear_model.py:2019: ConvergenceWarning: The MLE may be on the boundary of the parameter space.\n",
      "  warnings.warn(msg, ConvergenceWarning)\n"
     ]
    }
   ],
   "source": [
    "hipp = similarity_df[similarity_df['roi'] == 'PHc']\n",
    "\n",
    "model_str = 'corr ~ conjunction'\n",
    "mixedfx = smf.mixedlm(model_str, hipp, groups = hipp['sub']).fit()   \n",
    "print mixedfx.tvalues\n",
    "print mixedfx.conf_int()\n",
    "e = mixedfx.bse_fe['conjunction[T.single]']\n",
    "print 'pe',mixedfx.params['conjunction[T.single]']\n",
    "print 'dz',mixedfx.params['conjunction[T.single]'] / (e * np.sqrt(len(subs)))\n",
    "print mixedfx.summary()\n"
   ]
  },
  {
   "cell_type": "code",
   "execution_count": 104,
   "metadata": {
    "collapsed": true
   },
   "outputs": [],
   "source": [
    "import moss\n",
    "similarity_df = moss.remove_unit_variance(similarity_df, 'corr', 'sub', group='mask', suffix=\"_within\")"
   ]
  },
  {
   "cell_type": "code",
   "execution_count": 105,
   "metadata": {},
   "outputs": [
    {
     "data": {
      "image/png": "[encoded data removed]",
      "text/plain": [
       "<matplotlib.figure.Figure at 0x7f440c5a4450>"
      ]
     },
     "metadata": {},
     "output_type": "display_data"
    }
   ],
   "source": [
    "sns.set(rc={\"figure.figsize\": (6, 4)})\n",
    "sns.set_context('paper',font_scale = 1.4)\n",
    "sns.set_style(\"white\")\n",
    "\n",
    "\n",
    "sns.barplot(x = 'mask',y = 'corr_within',hue = 'conjunction',data = similarity_df)\n",
    "sns.despine()\n",
    "plt.ylabel('Correlation')\n",
    "# plt.xlabel('Behavioral Leakiness')\n",
    "plt.savefig('/home/iballard/Dropbox/fd/figs/paper/loc_evidence_baseline.png', dpi = 300)"
   ]
  },
  {
   "cell_type": "markdown",
   "metadata": {},
   "source": [
    "# Boostrap analysis"
   ]
  },
  {
   "cell_type": "code",
   "execution_count": 19,
   "metadata": {
    "collapsed": true
   },
   "outputs": [],
   "source": [
    "def run_bootstrap(in_tuple):\n",
    "    sub, m, n_iters =  in_tuple\n",
    "    out_f = op.join(home_dir,'loc_bootstrap','_'.join([sub,m]) +'.csv')\n",
    "    smooth = 'smoothed'\n",
    "    \n",
    "    similarity_df = {'mask':[],'sub':[],'condition':[],'run':[],'iter':[],'corr':[],'conjunction':[]}\n",
    "\n",
    "    #load loc betas and take mean across trials\n",
    "    in_f = op.join(home_dir,'betas','whitened', '_'.join(['loc-betas',sub,smooth,m]) + '.csv')\n",
    "    betas = pd.read_csv(in_f)\n",
    "    template = betas.groupby(['condition','voxel']).mean().sort_index()\n",
    "\n",
    "    #load sim betas and organize by trial\n",
    "    in_f = op.join(home_dir,'betas','whitened', '_'.join(['sim_4mm-betas',sub,smooth,m]) + '.csv')\n",
    "    sim_betas = pd.read_csv(in_f)\n",
    "    sim_betas = sim_betas.set_index(['run','condition','trial']).sort_index()\n",
    "\n",
    "    for n in range(n_iters):\n",
    "        #compute correlation with template\n",
    "        for run, cond, trial in set(sim_betas.index):\n",
    "            stim, conj, ctrl = get_matching_cond(int(run),cond)\n",
    "            template_pattern = template.loc[stim,'value'].values\n",
    "            np.random.shuffle(template_pattern)\n",
    "            corr = scipy.stats.pearsonr(sim_betas.loc[(run,cond,trial),'value'].values,\n",
    "                                        template_pattern)[0]\n",
    "\n",
    "            #log results\n",
    "            similarity_df['sub'].append(sub)\n",
    "            similarity_df['mask'].append(m)\n",
    "            similarity_df['condition'].append(cond)\n",
    "            similarity_df['run'].append(run)\n",
    "            similarity_df['corr'].append(corr)\n",
    "            similarity_df['conjunction'].append(conj)\n",
    "            similarity_df['iter'].append(n)\n",
    "\n",
    "    similarity_df = pd.DataFrame(similarity_df)\n",
    "    similarity_df = similarity_df.groupby(['sub','run','iter','conjunction','mask']).mean().reset_index()\n",
    "\n",
    "    similarity_df.to_csv(out_f, index = False)"
   ]
  },
  {
   "cell_type": "code",
   "execution_count": 20,
   "metadata": {
    "collapsed": true
   },
   "outputs": [],
   "source": [
    "in_tuples = []\n",
    "n_iters = 10000\n",
    "for sub in subs:\n",
    "    for m in ['hipp','peri_sim','para_sim']:\n",
    "        in_tuples.append((sub,m,n_iters))"
   ]
  },
  {
   "cell_type": "code",
   "execution_count": 21,
   "metadata": {
    "collapsed": true
   },
   "outputs": [],
   "source": [
    "import multiprocessing\n",
    "pool = multiprocessing.Pool(54)\n",
    "res = pool.map(run_bootstrap,in_tuples)\n",
    "pool.terminate()\n",
    "pool.join()"
   ]
  },
  {
   "cell_type": "code",
   "execution_count": 28,
   "metadata": {
    "collapsed": true
   },
   "outputs": [],
   "source": [
    "samples = []\n",
    "for sub in subs:\n",
    "    for m in ['hipp','peri_sim','para_sim']:\n",
    "        in_f = op.join(home_dir,'loc_bootstrap','_'.join([sub,m]) +'.csv')\n",
    "        data = pd.read_csv(in_f)\n",
    "        samples.append(data)\n",
    "samples = pd.concat(samples)\n",
    "samples = samples.groupby(['mask','conjunction','iter']).mean().reset_index()"
   ]
  },
  {
   "cell_type": "code",
   "execution_count": 35,
   "metadata": {
    "collapsed": true
   },
   "outputs": [],
   "source": [
    "roi_names = {'para_sim':'PHc',\n",
    "             'peri_sim':'PRc',\n",
    "             'hipp':'Hippocampus'}\n",
    "samples['roi'] = [roi_names[x] for x in samples['mask']]\n",
    "similarity_df['roi'] = [roi_names[x] for x in similarity_df['mask']]"
   ]
  },
  {
   "cell_type": "code",
   "execution_count": 31,
   "metadata": {},
   "outputs": [
    {
     "data": {
      "image/png": "[encoded data removed]",
      "text/plain": [
       "<Figure size 432x288 with 1 Axes>"
      ]
     },
     "metadata": {},
     "output_type": "display_data"
    }
   ],
   "source": [
    "ax = sns.violinplot(x = 'roi',y= 'corr',\n",
    "                    hue = 'conjunction',\n",
    "                    data = samples,\n",
    "               palette = sns.color_palette(\"BuGn_r\",n_colors = 4))\n",
    "\n",
    "sns.pointplot(x = 'roi',y = 'corr',\n",
    "              hue = 'conjunction',\n",
    "              data = similarity_df,\n",
    "              palette = sns.color_palette(\"RdBu\", n_colors=6),\n",
    "              dodge = .4,\n",
    "              ci = None,\n",
    "              join = False, ax = ax)\n",
    "sns.despine()\n",
    "plt.ylabel('Correlation')\n",
    "plt.xlabel('')\n",
    "plt.legend(bbox_to_anchor=(1.05, 1), loc=2, borderaxespad=0.)\n",
    "plt.savefig('/home/iballard/Dropbox/fd/figs/paper/reactivation_permuation.png', \n",
    "            dpi = 300,\n",
    "           bbox_inches = 'tight')\n",
    "sns.set_style({'font.family': 'Times New Roman'})"
   ]
  },
  {
   "cell_type": "code",
   "execution_count": null,
   "metadata": {
    "collapsed": true
   },
   "outputs": [],
   "source": [
    "s = similarity_df.groupby(['mask', 'conjunction']).mean()\n",
    "samp = samples.set_index(['mask','conjunction'])\n",
    "val = s.loc[('hipp','single'),'corr'] - s.loc[('hipp','double'),'corr']\n",
    "shuffled_differences = samp.loc[('hipp','single'),'corr'].values - samp.loc[('hipp','double'),'corr'].values\n",
    "print 'hipp diff' ,1 - sum(val > shuffled_differences)/10000.0\n",
    "\n",
    "\n",
    "peri_val = val - (s.loc[('peri_sim','single'),'corr'] - s.loc[('peri_sim','double'),'corr'])\n",
    "peri_diff = samp.loc[('peri_sim','single'),'corr'].values - samp.loc[('peri_sim','double'),'corr'].values\n",
    "peri_diff = peri_diff - shuffled_differences\n",
    "print 'peri conjunction', 1 - sum(peri_val > peri_diff)/10000.0\n",
    "\n",
    "peri_val = val - (s.loc[('para_sim','single'),'corr'] - s.loc[('para_sim','double'),'corr'])\n",
    "peri_diff = samp.loc[('para_sim','single'),'corr'].values - samp.loc[('para_sim','double'),'corr'].values\n",
    "peri_diff = peri_diff - shuffled_differences\n",
    "print 'para conjunction', 1 - sum(peri_val > peri_diff)/10000.0"
   ]
  },
  {
   "cell_type": "code",
   "execution_count": 60,
   "metadata": {},
   "outputs": [
    {
     "name": "stdout",
     "output_type": "stream",
     "text": [
      "0.0\n",
      "0.0\n"
     ]
    }
   ],
   "source": [
    "#average difference across trial typess\n",
    "s = similarity_df.groupby(['mask']).mean()\n",
    "samp = samples.groupby(['iter','mask']).mean().reset_index().set_index(['mask'])\n",
    "\n",
    "val = s.loc['hipp','corr'] - s.loc['peri_sim','corr']\n",
    "peri_diff = samp.loc['hipp','corr'] -  samp.loc['peri_sim','corr']\n",
    "print sum(val < peri_diff)/10000.0\n",
    "\n",
    "val = s.loc['hipp','corr'] - s.loc['para_sim','corr']\n",
    "peri_diff = samp.loc['hipp','corr'] -  samp.loc['para_sim','corr']\n",
    "print sum(val < peri_diff)/10000.0\n"
   ]
  },
  {
   "cell_type": "code",
   "execution_count": 136,
   "metadata": {},
   "outputs": [
    {
     "name": "stdout",
     "output_type": "stream",
     "text": [
      "('single', 'peri_sim') 0.3834\n",
      "('double', 'peri_sim') 0.0091\n",
      "('double', 'hipp') 1.0\n",
      "('single', 'hipp') 0.0002\n",
      "('single', 'para_sim') 0.0\n",
      "('double', 'para_sim') 0.0\n"
     ]
    }
   ],
   "source": [
    "d = similarity_df.groupby(['conjunction','mask']).mean()\n",
    "s = samples.set_index((['conjunction','mask']))\n",
    "for row in set(d.index):\n",
    "    val = d.loc[row,'corr']\n",
    "    shuff = s.loc[row,'corr']\n",
    "    print row, sum(shuff > val)/float(len(shuff))\n",
    "    "
   ]
  },
  {
   "cell_type": "code",
   "execution_count": 109,
   "metadata": {},
   "outputs": [
    {
     "data": {
      "text/plain": [
       "(array([ True,  True,  True,  True,  True, False], dtype=bool),\n",
       " array([ 0.00012,  0.00012,  0.00012,  0.00012,  0.00012,  0.1161 ]))"
      ]
     },
     "execution_count": 109,
     "metadata": {},
     "output_type": "execute_result"
    }
   ],
   "source": [
    "fdrcorrection([.0001,.0001,.0001,.0001,.0001,.1161],.05)"
   ]
  },
  {
   "cell_type": "markdown",
   "metadata": {},
   "source": [
    "# Sort template similarity by visual content"
   ]
  },
  {
   "cell_type": "code",
   "execution_count": 36,
   "metadata": {},
   "outputs": [
    {
     "data": {
      "text/plain": [
       "Text(0.5,0,'')"
      ]
     },
     "execution_count": 36,
     "metadata": {},
     "output_type": "execute_result"
    },
    {
     "data": {
      "image/png": "[encoded data removed]",
      "text/plain": [
       "<Figure size 432x288 with 1 Axes>"
      ]
     },
     "metadata": {},
     "output_type": "display_data"
    }
   ],
   "source": [
    "sns.set(rc={\"figure.figsize\": (6, 4)})\n",
    "sns.set_context('paper',font_scale = 1.4)\n",
    "sns.set_style(\"white\")\n",
    "sns.barplot(x = 'roi', y = 'corr', hue = 'target_stim', data = similarity_df)\n",
    "sns.despine()\n",
    "plt.ylabel('Correlation')\n",
    "plt.xlabel('')\n",
    "# plt.savefig('/home/iballard/Dropbox/fd/figs/paper/loc_categorical.png', dpi = 300)"
   ]
  },
  {
   "cell_type": "code",
   "execution_count": 80,
   "metadata": {},
   "outputs": [
    {
     "name": "stderr",
     "output_type": "stream",
     "text": [
      "/home/iballard/anaconda/lib/python2.7/site-packages/statsmodels/regression/mixed_linear_model.py:2019: ConvergenceWarning: The MLE may be on the boundary of the parameter space.\n",
      "  warnings.warn(msg, ConvergenceWarning)\n"
     ]
    },
    {
     "data": {
      "text/html": [
       "<table class=\"simpletable\">\n",
       "<tr>\n",
       "       <td>Model:</td>       <td>MixedLM</td> <td>Dependent Variable:</td>   <td>corr</td>   \n",
       "</tr>\n",
       "<tr>\n",
       "  <td>No. Observations:</td>  <td>3760</td>         <td>Method:</td>         <td>REML</td>   \n",
       "</tr>\n",
       "<tr>\n",
       "     <td>No. Groups:</td>      <td>32</td>          <td>Scale:</td>         <td>0.0029</td>  \n",
       "</tr>\n",
       "<tr>\n",
       "  <td>Min. group size:</td>    <td>80</td>        <td>Likelihood:</td>     <td>5599.3487</td>\n",
       "</tr>\n",
       "<tr>\n",
       "  <td>Max. group size:</td>    <td>120</td>       <td>Converged:</td>         <td>Yes</td>   \n",
       "</tr>\n",
       "<tr>\n",
       "  <td>Mean group size:</td>   <td>117.5</td>           <td></td>               <td></td>     \n",
       "</tr>\n",
       "</table>\n",
       "<table class=\"simpletable\">\n",
       "<tr>\n",
       "               <td></td>                <th>Coef.</th> <th>Std.Err.</th>    <th>z</th>    <th>P>|z|</th> <th>[0.025</th> <th>0.975]</th>\n",
       "</tr>\n",
       "<tr>\n",
       "  <th>Intercept</th>                    <td>0.020</td>   <td>0.005</td>   <td>4.165</td>  <td>0.000</td>  <td>0.011</td>  <td>0.029</td>\n",
       "</tr>\n",
       "<tr>\n",
       "  <th>C(target_stim, Sum)[S.body]</th> <td>-0.008</td>   <td>0.001</td>  <td>-6.380</td>  <td>0.000</td> <td>-0.010</td> <td>-0.005</td>\n",
       "</tr>\n",
       "<tr>\n",
       "  <th>C(target_stim, Sum)[S.face]</th> <td>-0.015</td>   <td>0.001</td>  <td>-12.040</td> <td>0.000</td> <td>-0.017</td> <td>-0.012</td>\n",
       "</tr>\n",
       "<tr>\n",
       "  <th>groups RE</th>                    <td>0.001</td>   <td>0.004</td>     <td></td>       <td></td>       <td></td>       <td></td>   \n",
       "</tr>\n",
       "</table>"
      ],
      "text/plain": [
       "<class 'statsmodels.iolib.summary2.Summary'>\n",
       "\"\"\"\n",
       "                 Mixed Linear Model Regression Results\n",
       "=======================================================================\n",
       "Model:                  MixedLM      Dependent Variable:      corr     \n",
       "No. Observations:       3760         Method:                  REML     \n",
       "No. Groups:             32           Scale:                   0.0029   \n",
       "Min. group size:        80           Likelihood:              5599.3487\n",
       "Max. group size:        120          Converged:               Yes      \n",
       "Mean group size:        117.5                                          \n",
       "-----------------------------------------------------------------------\n",
       "                            Coef.  Std.Err.    z    P>|z| [0.025 0.975]\n",
       "-----------------------------------------------------------------------\n",
       "Intercept                    0.020    0.005   4.165 0.000  0.011  0.029\n",
       "C(target_stim, Sum)[S.body] -0.008    0.001  -6.380 0.000 -0.010 -0.005\n",
       "C(target_stim, Sum)[S.face] -0.015    0.001 -12.040 0.000 -0.017 -0.012\n",
       "groups RE                    0.001    0.004                            \n",
       "=======================================================================\n",
       "\n",
       "\"\"\""
      ]
     },
     "execution_count": 80,
     "metadata": {},
     "output_type": "execute_result"
    }
   ],
   "source": [
    "hipp = similarity_df[similarity_df['roi'] == 'ParaHipp']\n",
    "\n",
    "model_str = 'corr ~ C(target_stim, Sum)'\n",
    "mixedfx = smf.mixedlm(model_str, hipp, groups = hipp['sub']).fit()   \n",
    "\n",
    "mixedfx.summary()"
   ]
  },
  {
   "cell_type": "code",
   "execution_count": null,
   "metadata": {
    "collapsed": true
   },
   "outputs": [],
   "source": []
  },
  {
   "cell_type": "code",
   "execution_count": null,
   "metadata": {
    "collapsed": true
   },
   "outputs": [],
   "source": []
  },
  {
   "cell_type": "code",
   "execution_count": null,
   "metadata": {
    "collapsed": true
   },
   "outputs": [],
   "source": []
  },
  {
   "cell_type": "code",
   "execution_count": null,
   "metadata": {
    "collapsed": true
   },
   "outputs": [],
   "source": []
  }
 ],
 "metadata": {
  "kernelspec": {
   "display_name": "Python 2",
   "language": "python",
   "name": "python2"
  },
  "language_info": {
   "codemirror_mode": {
    "name": "ipython",
    "version": 2
   },
   "file_extension": ".py",
   "mimetype": "text/x-python",
   "name": "python",
   "nbconvert_exporter": "python",
   "pygments_lexer": "ipython2",
   "version": "2.7.13"
  }
 },
 "nbformat": 4,
 "nbformat_minor": 1
}
