{
 "cells": [
  {
   "cell_type": "code",
   "execution_count": 1,
   "metadata": {
    "collapsed": true
   },
   "outputs": [],
   "source": [
    "#os and i/o\n",
    "import os\n",
    "import numpy as np\n",
    "import glob\n",
    "import os.path as op\n",
    "import pandas as pd\n",
    "import json"
   ]
  },
  {
   "cell_type": "code",
   "execution_count": 2,
   "metadata": {
    "collapsed": true
   },
   "outputs": [],
   "source": [
    "def make_dir(dir_name):\n",
    "    if not op.exists(dir_name):\n",
    "        os.mkdir(dir_name)"
   ]
  },
  {
   "cell_type": "code",
   "execution_count": 3,
   "metadata": {
    "collapsed": true
   },
   "outputs": [],
   "source": [
    "def make_link(old,new):\n",
    "    if not op.exists(new):\n",
    "        cmd = ['ln','-s',old,new]\n",
    "        cmd = ' '.join(cmd)\n",
    "        os.system(cmd)"
   ]
  },
  {
   "cell_type": "code",
   "execution_count": 31,
   "metadata": {
    "collapsed": true
   },
   "outputs": [],
   "source": [
    "#preliminary housekeeping\n",
    "home_dir = '/data/home/iballard/fd/'\n",
    "subj_file = home_dir + 'subjects.txt'\n",
    "sub_list = list(np.loadtxt(subj_file,'string'))\n",
    "os.chdir(home_dir)\n",
    "bids_dir = home_dir + '/fd-BIDS/'\n",
    "make_dir(bids_dir)"
   ]
  },
  {
   "cell_type": "code",
   "execution_count": 5,
   "metadata": {
    "collapsed": true
   },
   "outputs": [],
   "source": [
    "#get new sub names\n",
    "sub_map = {}\n",
    "for n,sub in enumerate(sub_list):\n",
    "    \n",
    "    if n < 9:\n",
    "        val = '0' + str(n + 1)\n",
    "    else:\n",
    "        val = str(n + 1)\n",
    "\n",
    "    sub_map[sub] = 'sub-' + val\n",
    "\n",
    "s = pd.DataFrame({'participant_id': sorted(sub_map.values())})\n",
    "s.to_csv(bids_dir + 'participants.tsv',index = False)"
   ]
  },
  {
   "cell_type": "code",
   "execution_count": 6,
   "metadata": {
    "collapsed": true
   },
   "outputs": [],
   "source": [
    "#initialize directories\n",
    "for sub in sub_list:\n",
    "    #make new sub dir\n",
    "    sub_dir = bids_dir + sub_map[sub]\n",
    "    make_dir(sub_dir)\n",
    "    \n",
    "    #make new anat dir\n",
    "    anat = op.join(sub_dir, 'anat')\n",
    "    make_dir(anat)\n",
    "    \n",
    "    #make new func dir\n",
    "    func = op.join(sub_dir, 'func')\n",
    "    make_dir(func) \n",
    "   \n",
    "    #make new fmap dir\n",
    "    fmap = op.join(sub_dir, 'fmap')\n",
    "    make_dir(fmap)\n",
    "    \n",
    "    #make new fmap dir\n",
    "    fmap = op.join(sub_dir, 'dwi')\n",
    "    make_dir(fmap)\n",
    "    "
   ]
  },
  {
   "cell_type": "code",
   "execution_count": 7,
   "metadata": {
    "collapsed": true
   },
   "outputs": [],
   "source": [
    "#set up anat files\n",
    "pydeface = '/home/iballard/anaconda/bin/pydeface.py'\n",
    "for sub in sub_list:\n",
    "    t1 = op.join(home_dir,'data',sub,'anat','T1w_Whole_brain_1mm.nii.gz')\n",
    "    \n",
    "    cmd = ' '.join([pydeface, t1])\n",
    "#     os.system(cmd)\n"
   ]
  },
  {
   "cell_type": "code",
   "execution_count": 8,
   "metadata": {
    "collapsed": true
   },
   "outputs": [],
   "source": [
    "#set up anat files\n",
    "for sub in sub_list:\n",
    "    new_anat = op.join(bids_dir, sub_map[sub], 'anat',sub_map[sub] + '_T1w.nii.gz')\n",
    "\n",
    "    t1 = op.join(home_dir,'data',sub,'anat','T1w_Whole_brain_1mm_defaced.nii.gz')\n",
    "    make_link(t1,new_anat)\n"
   ]
  },
  {
   "cell_type": "code",
   "execution_count": 49,
   "metadata": {
    "collapsed": true
   },
   "outputs": [],
   "source": [
    "#set up func files\n",
    "for exp in ['sim','ser','loc']:\n",
    "    for sub in sub_list:\n",
    "        func = glob.glob(op.join(home_dir,'data',sub,'func',exp,'*.nii.gz'))\n",
    "\n",
    "        for f in func:\n",
    "            if f.count('_') == 2 and f[-8] != 'p':\n",
    "                run = f.split('/')[-1].split('.')[0][-1]\n",
    "                new_func = op.join(bids_dir, sub_map[sub], 'func',\n",
    "                                   sub_map[sub] + '_task-' + exp + '_run-0' + run + '_bold')\n",
    "#                 make_link(f,new_func + '.nii.gz')\n",
    "                cmd = ['ln',f,new_func  + '.nii.gz']\n",
    "                cmd = ' '.join(cmd)\n",
    "                os.system(cmd)\n",
    "\n",
    "                #json info\n",
    "                info = op.join(home_dir,'scan_info.json')\n",
    "                make_link(info,new_func + '.json')\n",
    "\n",
    "                #events info\n",
    "                info = op.join(home_dir,'fd-BIDS','task-' + exp + '_events.json')\n",
    "                make_link(info,new_func[:-4] + 'events.json')\n",
    "        "
   ]
  },
  {
   "cell_type": "code",
   "execution_count": 44,
   "metadata": {
    "collapsed": true
   },
   "outputs": [],
   "source": [
    "#set up fmap files\n",
    "for sub in sub_list:\n",
    "    func = glob.glob(op.join(home_dir,'data',sub,'cal','cal1*.nii.gz'))\n",
    "    for f in func:\n",
    "        if f.count('_') == 2:\n",
    "            run = f.split('/')[-1].split('.')[0][-1]\n",
    "                        \n",
    "            if int(run) < 5:\n",
    "                new_cal = op.join(bids_dir, sub_map[sub], 'fmap',\n",
    "                                   sub_map[sub] + '_dir-opposing_run-0' + run + '_epi')\n",
    "                make_link(f,new_cal + '.nii.gz')\n",
    "\n",
    "                #deal with json file\n",
    "                if int(run) < 4:\n",
    "                    json_str  = {\"PhaseEncodingDirection\": \"j-\", \n",
    "                                 \"TotalReadoutTime\":  0.05133,\n",
    "                                 \"IntendedFor\": [\"func/\" + sub_map[sub] + \"_task-sim_run-0\" + run + \"_bold.nii.gz\",\"func/\" + sub_map[sub] + \"_task-ser_run-0\" + run + \"_bold.nii.gz\"]}\n",
    "                else:\n",
    "                    json_str  = {\"PhaseEncodingDirection\": \"j-\", \n",
    "                                 \"TotalReadoutTime\":  0.05133,\n",
    "                                 \"IntendedFor\": [\"func/\" + sub_map[sub] + \"_task-loc_run-01_bold.nii.gz\", \"func/\" + sub_map[sub] + \"_task-loc_run-02_bold.nii.gz\"]}\n",
    "\n",
    "                with open(new_cal + '.json', 'w') as outfile:\n",
    "                    json.dump(json_str, outfile)"
   ]
  },
  {
   "cell_type": "code",
   "execution_count": 35,
   "metadata": {
    "collapsed": true
   },
   "outputs": [],
   "source": [
    "#set up dti files\n",
    "for sub in sub_list:\n",
    "    func = glob.glob(op.join(home_dir,'data',sub,'dti','*.nii.gz'))\n",
    "    for f in func:\n",
    "        run = f.split('/')[-1].split('.')[0][-1]\n",
    "        new_func = op.join(bids_dir, sub_map[sub], 'dwi',\n",
    "                           sub_map[sub] + '_run-0' + run + '_dwi')\n",
    "        make_link(f,new_func + '.nii.gz')\n",
    "        \n",
    "        d = f[:-6] + 'bvec'\n",
    "        new_func = op.join(bids_dir, sub_map[sub], 'dwi',\n",
    "                           sub_map[sub] + '_run-0' + run + '_dwi')\n",
    "        make_link(d,new_func + '.bvec')\n",
    "        \n",
    "\n",
    "        d = f[:-6] + 'bval'\n",
    "        new_func = op.join(bids_dir, sub_map[sub], 'dwi',\n",
    "                           sub_map[sub] + '_run-0' + run + '_dwi')\n",
    "        make_link(d,new_func + '.bval')\n",
    "        \n",
    "        \n",
    "        #json info\n",
    "        info = op.join(home_dir,'dwi_info.json')\n",
    "        make_link(info,new_func + '.json')\n",
    "\n",
    "\n",
    "        "
   ]
  },
  {
   "cell_type": "code",
   "execution_count": 20,
   "metadata": {
    "collapsed": true
   },
   "outputs": [],
   "source": [
    "\n",
    "def get_run_map(run_df, exp, run):\n",
    "\n",
    "    if exp == 'sim':\n",
    "        if run == 1:\n",
    "            run_df['a_stim'] = 'house'\n",
    "            run_df['b_stim'] = 'face'\n",
    "            run_df['c_stim'] = 'body'\n",
    "\n",
    "        elif run == 2:\n",
    "            run_df['a_stim'] = 'face'\n",
    "            run_df['b_stim'] = 'body'\n",
    "            run_df['c_stim'] = 'house'        \n",
    "        elif run == 3:\n",
    "            run_df['a_stim'] = 'body'\n",
    "            run_df['b_stim'] = 'house'\n",
    "            run_df['c_stim'] = 'face'        \n",
    "    \n",
    "    if exp == 'ser':\n",
    "        if run == 1:\n",
    "            run_df['a_stim'] = 'face'\n",
    "            run_df['b_stim'] = 'body'\n",
    "            run_df['c_stim'] = 'house'\n",
    "\n",
    "        elif run == 2:\n",
    "            run_df['a_stim'] = 'body'\n",
    "            run_df['b_stim'] = 'house'\n",
    "            run_df['c_stim'] = 'face'        \n",
    "        elif run == 3:\n",
    "            run_df['a_stim'] = 'house'\n",
    "            run_df['b_stim'] = 'face'\n",
    "            run_df['c_stim'] = 'body'    \n",
    "    \n",
    "    return run_df"
   ]
  },
  {
   "cell_type": "code",
   "execution_count": 26,
   "metadata": {},
   "outputs": [
    {
     "name": "stderr",
     "output_type": "stream",
     "text": [
      "/home/iballard/anaconda/lib/python2.7/site-packages/ipykernel_launcher.py:6: SettingWithCopyWarning: \n",
      "A value is trying to be set on a copy of a slice from a DataFrame.\n",
      "Try using .loc[row_indexer,col_indexer] = value instead\n",
      "\n",
      "See the caveats in the documentation: http://pandas.pydata.org/pandas-docs/stable/indexing.html#indexing-view-versus-copy\n",
      "  \n",
      "/home/iballard/anaconda/lib/python2.7/site-packages/ipykernel_launcher.py:7: SettingWithCopyWarning: \n",
      "A value is trying to be set on a copy of a slice from a DataFrame.\n",
      "Try using .loc[row_indexer,col_indexer] = value instead\n",
      "\n",
      "See the caveats in the documentation: http://pandas.pydata.org/pandas-docs/stable/indexing.html#indexing-view-versus-copy\n",
      "  import sys\n",
      "/home/iballard/anaconda/lib/python2.7/site-packages/ipykernel_launcher.py:8: SettingWithCopyWarning: \n",
      "A value is trying to be set on a copy of a slice from a DataFrame.\n",
      "Try using .loc[row_indexer,col_indexer] = value instead\n",
      "\n",
      "See the caveats in the documentation: http://pandas.pydata.org/pandas-docs/stable/indexing.html#indexing-view-versus-copy\n",
      "  \n",
      "/home/iballard/anaconda/lib/python2.7/site-packages/ipykernel_launcher.py:11: SettingWithCopyWarning: \n",
      "A value is trying to be set on a copy of a slice from a DataFrame.\n",
      "Try using .loc[row_indexer,col_indexer] = value instead\n",
      "\n",
      "See the caveats in the documentation: http://pandas.pydata.org/pandas-docs/stable/indexing.html#indexing-view-versus-copy\n",
      "  # This is added back by InteractiveShellApp.init_path()\n",
      "/home/iballard/anaconda/lib/python2.7/site-packages/ipykernel_launcher.py:12: SettingWithCopyWarning: \n",
      "A value is trying to be set on a copy of a slice from a DataFrame.\n",
      "Try using .loc[row_indexer,col_indexer] = value instead\n",
      "\n",
      "See the caveats in the documentation: http://pandas.pydata.org/pandas-docs/stable/indexing.html#indexing-view-versus-copy\n",
      "  if sys.path[0] == '':\n",
      "/home/iballard/anaconda/lib/python2.7/site-packages/ipykernel_launcher.py:13: SettingWithCopyWarning: \n",
      "A value is trying to be set on a copy of a slice from a DataFrame.\n",
      "Try using .loc[row_indexer,col_indexer] = value instead\n",
      "\n",
      "See the caveats in the documentation: http://pandas.pydata.org/pandas-docs/stable/indexing.html#indexing-view-versus-copy\n",
      "  del sys.path[0]\n",
      "/home/iballard/anaconda/lib/python2.7/site-packages/ipykernel_launcher.py:15: SettingWithCopyWarning: \n",
      "A value is trying to be set on a copy of a slice from a DataFrame.\n",
      "Try using .loc[row_indexer,col_indexer] = value instead\n",
      "\n",
      "See the caveats in the documentation: http://pandas.pydata.org/pandas-docs/stable/indexing.html#indexing-view-versus-copy\n",
      "  from ipykernel import kernelapp as app\n",
      "/home/iballard/anaconda/lib/python2.7/site-packages/ipykernel_launcher.py:16: SettingWithCopyWarning: \n",
      "A value is trying to be set on a copy of a slice from a DataFrame.\n",
      "Try using .loc[row_indexer,col_indexer] = value instead\n",
      "\n",
      "See the caveats in the documentation: http://pandas.pydata.org/pandas-docs/stable/indexing.html#indexing-view-versus-copy\n",
      "  app.launch_new_instance()\n",
      "/home/iballard/anaconda/lib/python2.7/site-packages/ipykernel_launcher.py:17: SettingWithCopyWarning: \n",
      "A value is trying to be set on a copy of a slice from a DataFrame.\n",
      "Try using .loc[row_indexer,col_indexer] = value instead\n",
      "\n",
      "See the caveats in the documentation: http://pandas.pydata.org/pandas-docs/stable/indexing.html#indexing-view-versus-copy\n",
      "/home/iballard/anaconda/lib/python2.7/site-packages/ipykernel_launcher.py:21: SettingWithCopyWarning: \n",
      "A value is trying to be set on a copy of a slice from a DataFrame.\n",
      "Try using .loc[row_indexer,col_indexer] = value instead\n",
      "\n",
      "See the caveats in the documentation: http://pandas.pydata.org/pandas-docs/stable/indexing.html#indexing-view-versus-copy\n",
      "/home/iballard/anaconda/lib/python2.7/site-packages/ipykernel_launcher.py:22: SettingWithCopyWarning: \n",
      "A value is trying to be set on a copy of a slice from a DataFrame.\n",
      "Try using .loc[row_indexer,col_indexer] = value instead\n",
      "\n",
      "See the caveats in the documentation: http://pandas.pydata.org/pandas-docs/stable/indexing.html#indexing-view-versus-copy\n",
      "/home/iballard/anaconda/lib/python2.7/site-packages/ipykernel_launcher.py:23: SettingWithCopyWarning: \n",
      "A value is trying to be set on a copy of a slice from a DataFrame.\n",
      "Try using .loc[row_indexer,col_indexer] = value instead\n",
      "\n",
      "See the caveats in the documentation: http://pandas.pydata.org/pandas-docs/stable/indexing.html#indexing-view-versus-copy\n",
      "/home/iballard/anaconda/lib/python2.7/site-packages/ipykernel_launcher.py:26: SettingWithCopyWarning: \n",
      "A value is trying to be set on a copy of a slice from a DataFrame.\n",
      "Try using .loc[row_indexer,col_indexer] = value instead\n",
      "\n",
      "See the caveats in the documentation: http://pandas.pydata.org/pandas-docs/stable/indexing.html#indexing-view-versus-copy\n",
      "/home/iballard/anaconda/lib/python2.7/site-packages/ipykernel_launcher.py:27: SettingWithCopyWarning: \n",
      "A value is trying to be set on a copy of a slice from a DataFrame.\n",
      "Try using .loc[row_indexer,col_indexer] = value instead\n",
      "\n",
      "See the caveats in the documentation: http://pandas.pydata.org/pandas-docs/stable/indexing.html#indexing-view-versus-copy\n",
      "/home/iballard/anaconda/lib/python2.7/site-packages/ipykernel_launcher.py:28: SettingWithCopyWarning: \n",
      "A value is trying to be set on a copy of a slice from a DataFrame.\n",
      "Try using .loc[row_indexer,col_indexer] = value instead\n",
      "\n",
      "See the caveats in the documentation: http://pandas.pydata.org/pandas-docs/stable/indexing.html#indexing-view-versus-copy\n",
      "/home/iballard/anaconda/lib/python2.7/site-packages/ipykernel_launcher.py:30: SettingWithCopyWarning: \n",
      "A value is trying to be set on a copy of a slice from a DataFrame.\n",
      "Try using .loc[row_indexer,col_indexer] = value instead\n",
      "\n",
      "See the caveats in the documentation: http://pandas.pydata.org/pandas-docs/stable/indexing.html#indexing-view-versus-copy\n",
      "/home/iballard/anaconda/lib/python2.7/site-packages/ipykernel_launcher.py:31: SettingWithCopyWarning: \n",
      "A value is trying to be set on a copy of a slice from a DataFrame.\n",
      "Try using .loc[row_indexer,col_indexer] = value instead\n",
      "\n",
      "See the caveats in the documentation: http://pandas.pydata.org/pandas-docs/stable/indexing.html#indexing-view-versus-copy\n",
      "/home/iballard/anaconda/lib/python2.7/site-packages/ipykernel_launcher.py:32: SettingWithCopyWarning: \n",
      "A value is trying to be set on a copy of a slice from a DataFrame.\n",
      "Try using .loc[row_indexer,col_indexer] = value instead\n",
      "\n",
      "See the caveats in the documentation: http://pandas.pydata.org/pandas-docs/stable/indexing.html#indexing-view-versus-copy\n"
     ]
    }
   ],
   "source": [
    "timing = op.join('/home','iballard','Dropbox','fd','timing_info_PE_diff_one.csv')\n",
    "timing = pd.read_csv(timing)\n",
    "timing = timing\n",
    "timing['onset'] = timing['onset'] + 3\n",
    "timing['duration'] = 1.5\n",
    "timing.loc[timing[timing['condition'] == 'feedback'].index,'duration'] = 1.0\n",
    "timing = timing.fillna('n/a')\n",
    "\n",
    "for exp in ['sim','ser']:\n",
    "    exp_df = timing[timing['exp'] == exp]\n",
    "    for sub in sub_list:\n",
    "        sub_df = exp_df[exp_df['sub'] == sub]\n",
    "\n",
    "        for run in set(sub_df['run']):\n",
    "\n",
    "            run_df = sub_df[sub_df['run'] == run]\n",
    "            r = get_run_map(run_df, exp, run)\n",
    "\n",
    "            out_f = op.join(bids_dir, sub_map[sub], 'func',\n",
    "                            sub_map[sub] + '_task-' + exp + '_run-0' + str(run) + '_events.tsv')\n",
    "\n",
    "            r = r[[ 'onset','duration', 'condition', \n",
    "                    'feedback_valence', 'rew', 'rt', \n",
    "                    'PE', 'PE_mb',\n",
    "                   'a_stim','b_stim','c_stim']]\n",
    "            r.to_csv(out_f, sep = '\\t', index = False)"
   ]
  },
  {
   "cell_type": "code",
   "execution_count": null,
   "metadata": {
    "collapsed": true
   },
   "outputs": [],
   "source": []
  },
  {
   "cell_type": "code",
   "execution_count": 23,
   "metadata": {
    "collapsed": true
   },
   "outputs": [],
   "source": [
    "##get timing file for object localizer\n",
    "def load_timing_file(run,time_to_drop):\n",
    "    loc_file = home_dir + '/loc_timing/script_kidLoc_2Hz_run' + str(run)\n",
    "    trial_type = []\n",
    "    time = []\n",
    "    with open(loc_file) as f:\n",
    "        for n,line in enumerate(f):\n",
    "            l = line.strip('\\n').split('\\t')\n",
    "            if len(l)==5: #ignore file header and footer\n",
    "                trial_type.append(int(l[2]))\n",
    "                time.append(float(l[1]) - time_to_drop)\n",
    "    return trial_type, time"
   ]
  },
  {
   "cell_type": "code",
   "execution_count": 24,
   "metadata": {
    "collapsed": true
   },
   "outputs": [],
   "source": [
    "#trial type dictionary for object localizer\n",
    "def trial_type_dict(cond):\n",
    "    tt_dict = {0:'scramble', 1:'face-adult', 2:'face-child', 3:'body', 4:'limb', 5:'car',\n",
    "            6:'guitar', 7:'place', 8:'house', 9:'word', 10:'number'}\n",
    "    c = [tt_dict[x] for x in cond]\n",
    "    return c"
   ]
  },
  {
   "cell_type": "code",
   "execution_count": 25,
   "metadata": {
    "collapsed": true
   },
   "outputs": [],
   "source": [
    "for sub in sub_list:\n",
    "    design_dir = home_dir + 'data/' + sub + '/design/' #make design folder\n",
    "\n",
    "    time_to_drop = 0\n",
    "\n",
    "    #prepare out file\n",
    "    out_file = design_dir + 'loc.csv'\n",
    "    \n",
    "    for run in range(1,3):\n",
    "        df = {'condition':[],'onset':[]}\n",
    "        trial_type, time = load_timing_file(run,time_to_drop)\n",
    "        trial_type = trial_type_dict(trial_type)\n",
    "        trial_type = trial_type[0::8]\n",
    "        time = time[0::8]\n",
    "        \n",
    "        df['condition'].extend(trial_type)\n",
    "        df['onset'].extend(time)\n",
    "        \n",
    "        df = pd.DataFrame(df)\n",
    "        df['onset'] = df['onset'] + 15\n",
    "        df['duration'] = 4\n",
    "        \n",
    "        df = df[['onset','duration','condition']]\n",
    "        out_f = op.join(bids_dir, sub_map[sub], 'func',\n",
    "                                sub_map[sub] + '_task-loc_run-0' + str(run) + '_events.tsv')\n",
    "        df.to_csv(out_f, sep = '\\t', index = False)"
   ]
  }
 ],
 "metadata": {
  "kernelspec": {
   "display_name": "Python 2",
   "language": "python",
   "name": "python2"
  },
  "language_info": {
   "codemirror_mode": {
    "name": "ipython",
    "version": 2
   },
   "file_extension": ".py",
   "mimetype": "text/x-python",
   "name": "python",
   "nbconvert_exporter": "python",
   "pygments_lexer": "ipython2",
   "version": "2.7.13"
  }
 },
 "nbformat": 4,
 "nbformat_minor": 2
}
